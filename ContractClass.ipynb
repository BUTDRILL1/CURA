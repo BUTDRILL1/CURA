{
  "cells": [
    {
      "cell_type": "markdown",
      "metadata": {
        "id": "JN1NhaMQYdp_"
      },
      "source": [
        "# Drive Mount"
      ]
    },
    {
      "cell_type": "code",
      "execution_count": null,
      "metadata": {
        "colab": {
          "base_uri": "https://localhost:8080/"
        },
        "id": "gEDgt6KK81Hq",
        "outputId": "58375c7f-8d31-407e-ff89-0928dbe852e3"
      },
      "outputs": [
        {
          "output_type": "stream",
          "name": "stdout",
          "text": [
            "Mounted at /content/drive\n"
          ]
        }
      ],
      "source": [
        "from google.colab import drive\n",
        "drive.mount('/content/drive')"
      ]
    },
    {
      "cell_type": "code",
      "execution_count": null,
      "metadata": {
        "colab": {
          "base_uri": "https://localhost:8080/"
        },
        "id": "wWnRG3UB9CJB",
        "outputId": "f8426908-f185-4a67-e3a9-f82130963fd4"
      },
      "outputs": [
        {
          "output_type": "stream",
          "name": "stdout",
          "text": [
            "/content/drive/MyDrive/ContractLegitt\n"
          ]
        }
      ],
      "source": [
        "cd drive/MyDrive/ContractLegitt/"
      ]
    },
    {
      "cell_type": "markdown",
      "metadata": {
        "id": "b0H0-QbIYCe-"
      },
      "source": [
        "# Installing and Importing Libraries\n"
      ]
    },
    {
      "cell_type": "code",
      "execution_count": null,
      "metadata": {
        "colab": {
          "base_uri": "https://localhost:8080/"
        },
        "id": "4gquflnT9Wyl",
        "outputId": "c7f382c4-c999-4beb-a8c1-04656ee216e0"
      },
      "outputs": [
        {
          "output_type": "stream",
          "name": "stdout",
          "text": [
            "\u001b[2K     \u001b[90m━━━━━━━━━━━━━━━━━━━━━━━━━━━━━━━━━━━━━━━━\u001b[0m \u001b[32m23.7/23.7 MB\u001b[0m \u001b[31m64.3 MB/s\u001b[0m eta \u001b[36m0:00:00\u001b[0m\n",
            "\u001b[2K     \u001b[90m━━━━━━━━━━━━━━━━━━━━━━━━━━━━━━━━━━━━━━━━\u001b[0m \u001b[32m823.6/823.6 kB\u001b[0m \u001b[31m64.5 MB/s\u001b[0m eta \u001b[36m0:00:00\u001b[0m\n",
            "\u001b[2K     \u001b[90m━━━━━━━━━━━━━━━━━━━━━━━━━━━━━━━━━━━━━━━━\u001b[0m \u001b[32m14.1/14.1 MB\u001b[0m \u001b[31m90.0 MB/s\u001b[0m eta \u001b[36m0:00:00\u001b[0m\n",
            "\u001b[2K     \u001b[90m━━━━━━━━━━━━━━━━━━━━━━━━━━━━━━━━━━━━━━━━\u001b[0m \u001b[32m731.7/731.7 MB\u001b[0m \u001b[31m800.1 kB/s\u001b[0m eta \u001b[36m0:00:00\u001b[0m\n",
            "\u001b[2K     \u001b[90m━━━━━━━━━━━━━━━━━━━━━━━━━━━━━━━━━━━━━━━━\u001b[0m \u001b[32m410.6/410.6 MB\u001b[0m \u001b[31m2.7 MB/s\u001b[0m eta \u001b[36m0:00:00\u001b[0m\n",
            "\u001b[2K     \u001b[90m━━━━━━━━━━━━━━━━━━━━━━━━━━━━━━━━━━━━━━━━\u001b[0m \u001b[32m121.6/121.6 MB\u001b[0m \u001b[31m7.3 MB/s\u001b[0m eta \u001b[36m0:00:00\u001b[0m\n",
            "\u001b[2K     \u001b[90m━━━━━━━━━━━━━━━━━━━━━━━━━━━━━━━━━━━━━━━━\u001b[0m \u001b[32m56.5/56.5 MB\u001b[0m \u001b[31m10.8 MB/s\u001b[0m eta \u001b[36m0:00:00\u001b[0m\n",
            "\u001b[2K     \u001b[90m━━━━━━━━━━━━━━━━━━━━━━━━━━━━━━━━━━━━━━━━\u001b[0m \u001b[32m124.2/124.2 MB\u001b[0m \u001b[31m8.2 MB/s\u001b[0m eta \u001b[36m0:00:00\u001b[0m\n",
            "\u001b[2K     \u001b[90m━━━━━━━━━━━━━━━━━━━━━━━━━━━━━━━━━━━━━━━━\u001b[0m \u001b[32m196.0/196.0 MB\u001b[0m \u001b[31m6.6 MB/s\u001b[0m eta \u001b[36m0:00:00\u001b[0m\n",
            "\u001b[2K     \u001b[90m━━━━━━━━━━━━━━━━━━━━━━━━━━━━━━━━━━━━━━━━\u001b[0m \u001b[32m166.0/166.0 MB\u001b[0m \u001b[31m6.9 MB/s\u001b[0m eta \u001b[36m0:00:00\u001b[0m\n",
            "\u001b[2K     \u001b[90m━━━━━━━━━━━━━━━━━━━━━━━━━━━━━━━━━━━━━━━━\u001b[0m \u001b[32m99.1/99.1 kB\u001b[0m \u001b[31m14.1 MB/s\u001b[0m eta \u001b[36m0:00:00\u001b[0m\n",
            "\u001b[2K     \u001b[90m━━━━━━━━━━━━━━━━━━━━━━━━━━━━━━━━━━━━━━━━\u001b[0m \u001b[32m21.1/21.1 MB\u001b[0m \u001b[31m56.4 MB/s\u001b[0m eta \u001b[36m0:00:00\u001b[0m\n",
            "\u001b[?25h"
          ]
        }
      ],
      "source": [
        "!pip install torch transformers numpy pandas matplotlib seaborn pyarrow -q"
      ]
    },
    {
      "cell_type": "code",
      "execution_count": null,
      "metadata": {
        "id": "sjh8YBRBHsoB"
      },
      "outputs": [],
      "source": [
        "!pip install -U sentence-transformers -q"
      ]
    },
    {
      "cell_type": "code",
      "execution_count": null,
      "metadata": {
        "id": "Kfac9Imtgq2y"
      },
      "outputs": [],
      "source": [
        "!pip install python-docx PyPDF2 -q"
      ]
    },
    {
      "cell_type": "code",
      "execution_count": null,
      "metadata": {
        "id": "FtGMaRFLkzDC"
      },
      "outputs": [],
      "source": [
        "from transformers import AutoModelForQuestionAnswering, AutoTokenizer\n",
        "import torch\n",
        "import json\n",
        "import docx\n",
        "import PyPDF2"
      ]
    },
    {
      "cell_type": "markdown",
      "metadata": {
        "id": "y8K2j66BYIed"
      },
      "source": [
        "# Tokenization"
      ]
    },
    {
      "cell_type": "code",
      "execution_count": null,
      "metadata": {
        "id": "mVFzAz_qlRfB"
      },
      "outputs": [],
      "source": [
        "model = AutoModelForQuestionAnswering.from_pretrained('./cuad-models/roberta-large/')\n",
        "tokenizer = AutoTokenizer.from_pretrained('./cuad-models/roberta-large/', use_fast=False)"
      ]
    },
    {
      "cell_type": "code",
      "execution_count": null,
      "metadata": {
        "id": "LwZtufBIlW5Q"
      },
      "outputs": [],
      "source": [
        "with open('./cuad-data/CUADv1.json') as json_file:\n",
        "    data = json.load(json_file)"
      ]
    },
    {
      "cell_type": "code",
      "execution_count": null,
      "metadata": {
        "id": "rAOuXrm6lbTg"
      },
      "outputs": [],
      "source": [
        "question = data['data'][0]['paragraphs'][0]['qas'][2]['question']\n",
        "paragraph = ' '.join(data['data'][0]['paragraphs'][0]['context'].split()[:100])"
      ]
    },
    {
      "cell_type": "code",
      "execution_count": null,
      "metadata": {
        "id": "mzyL07_VldYV"
      },
      "outputs": [],
      "source": [
        "encoding = tokenizer.encode_plus(text=question, text_pair=paragraph)\n",
        "inputs = encoding['input_ids']\n",
        "tokens = tokenizer.convert_ids_to_tokens(inputs)\n",
        "outputs = model(input_ids=torch.tensor([inputs]))\n",
        "\n",
        "start_scores = outputs.start_logits\n",
        "end_scores = outputs.end_logits"
      ]
    },
    {
      "cell_type": "markdown",
      "metadata": {
        "id": "bKbaDO2PYOjF"
      },
      "source": [
        "# Graphical Representation"
      ]
    },
    {
      "cell_type": "code",
      "execution_count": null,
      "metadata": {
        "colab": {
          "base_uri": "https://localhost:8080/",
          "height": 256
        },
        "id": "n-0-eywglgH_",
        "outputId": "8d70d990-25fe-40b1-b0dc-863d0849967c"
      },
      "outputs": [
        {
          "output_type": "error",
          "ename": "NameError",
          "evalue": "ignored",
          "traceback": [
            "\u001b[0;31m---------------------------------------------------------------------------\u001b[0m",
            "\u001b[0;31mNameError\u001b[0m                                 Traceback (most recent call last)",
            "\u001b[0;32m<ipython-input-1-61b921433da3>\u001b[0m in \u001b[0;36m<cell line: 12>\u001b[0;34m()\u001b[0m\n\u001b[1;32m     10\u001b[0m \u001b[0;34m\u001b[0m\u001b[0m\n\u001b[1;32m     11\u001b[0m \u001b[0;31m# Pull the scores out of PyTorch Tensors and convert them to 1D numpy arrays.\u001b[0m\u001b[0;34m\u001b[0m\u001b[0;34m\u001b[0m\u001b[0m\n\u001b[0;32m---> 12\u001b[0;31m \u001b[0ms_scores\u001b[0m \u001b[0;34m=\u001b[0m \u001b[0mstart_scores\u001b[0m\u001b[0;34m.\u001b[0m\u001b[0mdetach\u001b[0m\u001b[0;34m(\u001b[0m\u001b[0;34m)\u001b[0m\u001b[0;34m.\u001b[0m\u001b[0mnumpy\u001b[0m\u001b[0;34m(\u001b[0m\u001b[0;34m)\u001b[0m\u001b[0;34m.\u001b[0m\u001b[0mflatten\u001b[0m\u001b[0;34m(\u001b[0m\u001b[0;34m)\u001b[0m\u001b[0;34m\u001b[0m\u001b[0;34m\u001b[0m\u001b[0m\n\u001b[0m\u001b[1;32m     13\u001b[0m \u001b[0me_scores\u001b[0m \u001b[0;34m=\u001b[0m \u001b[0mend_scores\u001b[0m\u001b[0;34m.\u001b[0m\u001b[0mdetach\u001b[0m\u001b[0;34m(\u001b[0m\u001b[0;34m)\u001b[0m\u001b[0;34m.\u001b[0m\u001b[0mnumpy\u001b[0m\u001b[0;34m(\u001b[0m\u001b[0;34m)\u001b[0m\u001b[0;34m.\u001b[0m\u001b[0mflatten\u001b[0m\u001b[0;34m(\u001b[0m\u001b[0;34m)\u001b[0m\u001b[0;34m\u001b[0m\u001b[0;34m\u001b[0m\u001b[0m\n\u001b[1;32m     14\u001b[0m \u001b[0;34m\u001b[0m\u001b[0m\n",
            "\u001b[0;31mNameError\u001b[0m: name 'start_scores' is not defined"
          ]
        }
      ],
      "source": [
        "import matplotlib.pyplot as plt\n",
        "import seaborn as sns\n",
        "\n",
        "# Use plot styling from seaborn.\n",
        "sns.set(style='darkgrid')\n",
        "\n",
        "# Increase the plot size and font size.\n",
        "#sns.set(font_scale=1.5)\n",
        "plt.rcParams[\"figure.figsize\"] = (16,8)\n",
        "\n",
        "# Pull the scores out of PyTorch Tensors and convert them to 1D numpy arrays.\n",
        "s_scores = start_scores.detach().numpy().flatten()\n",
        "e_scores = end_scores.detach().numpy().flatten()\n",
        "\n",
        "# We'll use the tokens as the x-axis labels. In order to do that, they all need\n",
        "# to be unique, so we'll add the token index to the end of each one.\n",
        "token_labels = []\n",
        "for (i, token) in enumerate(tokens):\n",
        "    token_labels.append('{:} - {:>2}'.format(tokenizer.convert_tokens_to_string(token), i))\n",
        "\n",
        "# Create a barplot showing the start word score for all of the tokens.\n",
        "ax = sns.barplot(x=token_labels[80:120], y=s_scores[80:120], ci=None)\n",
        "\n",
        "# Turn the xlabels vertical.\n",
        "ax.set_xticklabels(ax.get_xticklabels(), rotation=90, ha=\"center\")\n",
        "\n",
        "# Turn on the vertical grid to help align words to scores.\n",
        "ax.grid(True)\n",
        "\n",
        "plt.title('Start Word Scores')\n",
        "\n",
        "plt.show()"
      ]
    },
    {
      "cell_type": "code",
      "execution_count": null,
      "metadata": {
        "id": "14jyG-Xlliot"
      },
      "outputs": [],
      "source": [
        "# Create a barplot showing the end word score for all of the tokens.\n",
        "ax = sns.barplot(x=token_labels[80:120], y=e_scores[80:120], errorbar=None)\n",
        "\n",
        "# Turn the xlabels vertical.\n",
        "ax.set_xticklabels(ax.get_xticklabels(), rotation=90, ha=\"center\")\n",
        "\n",
        "# Turn on the vertical grid to help align words to scores.\n",
        "ax.grid(True)\n",
        "\n",
        "plt.title('End Word Scores')\n",
        "\n",
        "plt.show()\n"
      ]
    },
    {
      "cell_type": "markdown",
      "metadata": {
        "id": "-FA1-0dhYWYw"
      },
      "source": [
        "# Making Predictions"
      ]
    },
    {
      "cell_type": "code",
      "execution_count": null,
      "metadata": {
        "colab": {
          "base_uri": "https://localhost:8080/",
          "height": 36
        },
        "id": "iKee-MnjlkRF",
        "outputId": "5ab609d2-aae3-494e-87ee-2a884e00be2b"
      },
      "outputs": [
        {
          "data": {
            "application/vnd.google.colaboratory.intrinsic+json": {
              "type": "string"
            },
            "text/plain": [
              "'7th day of September, 1999.'"
            ]
          },
          "execution_count": 13,
          "metadata": {},
          "output_type": "execute_result"
        }
      ],
      "source": [
        "start_index = torch.argmax(start_scores)\n",
        "end_index = torch.argmax(end_scores)\n",
        "answer = tokenizer.convert_tokens_to_string(tokens[start_index:end_index+1])\n",
        "answer.strip()"
      ]
    },
    {
      "cell_type": "code",
      "execution_count": null,
      "metadata": {
        "id": "iB6ax9yqlmky"
      },
      "outputs": [],
      "source": [
        "from scripts.predict import run_prediction"
      ]
    },
    {
      "cell_type": "code",
      "execution_count": null,
      "metadata": {
        "colab": {
          "base_uri": "https://localhost:8080/"
        },
        "id": "6cRGuhrniMrz",
        "outputId": "ac438357-6239-453a-9c9e-980c87279b69"
      },
      "outputs": [
        {
          "name": "stdout",
          "output_type": "stream",
          "text": [
            "PDF file 'SampleContract.pdf' has been converted to TXT file 'output.txt'.\n"
          ]
        }
      ],
      "source": [
        "def convert_pdf_to_txt(pdf_filename, txt_filename):\n",
        "    # Open the PDF file in read-binary mode\n",
        "    with open(pdf_filename, 'rb') as pdf_file:\n",
        "        # Create a PDF reader object\n",
        "        pdf_reader = PyPDF2.PdfReader(pdf_file)\n",
        "\n",
        "        # Create or open the TXT file for writing\n",
        "        with open(txt_filename, 'w', encoding='utf-8') as txt_file:\n",
        "            # Iterate through pages and extract text\n",
        "            for page_num in range(len(pdf_reader.pages)):\n",
        "                page = pdf_reader.pages[page_num]\n",
        "                txt_file.write(page.extract_text())\n",
        "\n",
        "# Provide the input PDF and output TXT filenames\n",
        "input_pdf = 'SampleContract.pdf'\n",
        "output_txt = 'output.txt'\n",
        "\n",
        "# Call the function to perform the conversion\n",
        "convert_pdf_to_txt(input_pdf, output_txt)\n",
        "\n",
        "print(f\"PDF file '{input_pdf}' has been converted to TXT file '{output_txt}'.\")\n"
      ]
    },
    {
      "cell_type": "code",
      "execution_count": null,
      "metadata": {
        "id": "_zZnqitrlwO_"
      },
      "outputs": [],
      "source": [
        "with open('./cuad-data/CUADv1.json') as json_file:\n",
        "    data = json.load(json_file)"
      ]
    },
    {
      "cell_type": "code",
      "execution_count": null,
      "metadata": {
        "id": "Lu9BVkjilzoi"
      },
      "outputs": [],
      "source": [
        "questions = []\n",
        "for i, q in enumerate(data['data'][0]['paragraphs'][0]['qas']):\n",
        "    question = data['data'][0]['paragraphs'][0]['qas'][i]['question']\n",
        "    questions.append(question)\n",
        "# contract = data['data'][0]['paragraphs'][0]['context']"
      ]
    },
    {
      "cell_type": "code",
      "execution_count": null,
      "metadata": {
        "id": "keJ7rJail0zy"
      },
      "outputs": [],
      "source": [
        "# with open('output.txt', 'w') as f:\n",
        "#     f.write(' '.join(contract.split()))"
      ]
    },
    {
      "cell_type": "code",
      "execution_count": null,
      "metadata": {
        "id": "gYY7PqXJgpTj"
      },
      "outputs": [],
      "source": [
        "def convert_docx_to_txt(docx_filename, txt_filename):\n",
        "    # Load the DOCX file\n",
        "    doc = docx.Document(docx_filename)\n",
        "\n",
        "    # Create or open the TXT file for writing\n",
        "    with open(txt_filename, 'w', encoding='utf-8') as txt_file:\n",
        "        # Iterate through paragraphs in the DOCX document and write to TXT file\n",
        "        for paragraph in doc.paragraphs:\n",
        "            txt_file.write(paragraph.text + '\\n')\n",
        "\n",
        "# Provide the input DOCX and output TXT filenames\n",
        "input_docx = 'input.docx'\n",
        "output_txt = 'output.txt'\n",
        "\n",
        "# Call the function to perform the conversion\n",
        "# convert_docx_to_txt(input_docx, output_txt)\n",
        "\n",
        "# print(f\"DOCX file '{input_docx}' has been converted to TXT file '{output_txt}'.\")\n"
      ]
    },
    {
      "cell_type": "code",
      "execution_count": null,
      "metadata": {
        "colab": {
          "base_uri": "https://localhost:8080/",
          "height": 165
        },
        "id": "hx4xSTI_kmF0",
        "outputId": "ab248d5a-2c7b-41ec-9471-5575659947ea"
      },
      "outputs": [
        {
          "data": {
            "application/vnd.google.colaboratory.intrinsic+json": {
              "type": "string"
            },
            "text/plain": [
              "' \\n \\n \\n \\nINTERIOR FITOUT AND MEP WORKS  \\nFOR  \\nPURE HEALTH OFFICE AT 41ST FLOOR,  \\nVISION TOWER, DUBAI , UAE  \\n \\n \\nCONTRACT  DOCUMENTS  \\n \\n \\nVOLUME 1 \\n \\nTENDER AND CONTRACT REQUIREMENTS   \\n \\n \\n \\n \\n \\n \\n \\nEmployer:  \\nPURE HEALTH MEDICAL SUPPLIES L.L.C  \\n3401 , Vision Tower, Business Bay  \\nP.O. Box 283572, Dubai, UAE  Contractor:  \\nCONCEPT INTERIORS  \\nP.O. Box 66020  \\nSharjah , UAE  \\nTel: 0 6-536 9842  \\n \\n \\nMarch  2022 \\n    \\nPURE HEALTH OFFICE AT  41ST FLOOR , VISION TOWER, DUBAI - UAE  \\n \\nINTERIOR FITOUT AND MEP WORKS PACKAGE  \\n \\n \\nVOLUME 1 \\n \\nTENDER AND CONTRACT REQUIREMENTS  \\n \\n \\nCONTENTS  \\n \\n \\n                                                                                                                                          PAGE  \\n \\nSECTION 1  INSTRUCTIONS TO TENDERERS  S1/1–S1/7 \\n \\nSECTION 2  FORM OF T ENDER & APPENDIX  S2/1–S2/5  \\n \\nSECTION 3  CONTRACT AGREEMENT  & APPENDIX  S3/1–S3/5  \\n \\nSECTION 4  CONDITIONS OF CONTRACT (PART I) – \\n GENERAL CONDITIONS  S4/1 \\n \\nSECTION 5  CONDITIONS OF CONTRACT (PART II) – \\n PARTICULAR CONDITIONS  S5/1–S5/28 \\n \\nSECTION 6 SPECIMEN FORM OF TENDER BOND  S6/1 \\n \\nSECTION 7 SPECIMEN FORM OF PERFORMANCE  SECURITY  S7/1 \\n \\nSECTION 8 SPECIMEN FORM OF BANK GUARANTEE FOR   \\n ADVANCE PAYMENT  S8/1 \\n \\nSECTION 9 STATEMENT OF SITE VISIT  S9/1 \\n SECTION 1  \\n \\nINSTRUCTIONS TO TENDERERS  PURE HE ALTH OFFICE AT  41ST FLOOR , VISION TOWER, DUBAI - UAE   \\nINTERIOR FITOUT  AND MEP WORKS PACK AGE  \\n \\n \\nVOL. I  – SECTION 1: INSTRUCTION S TO TENDERERS   \\nREV: 00    S1/1 INSTRUCTIONS TO TENDERERS  \\n \\n \\nThe following instructions shall be carefully noted by intending Tenderers, as failure to comply with \\nthem may lead to invalidation of the Tender.  Furthermore, Tenderers shall note that these “Instructions \\nto Tenderers” shall f orm part of the Contract Documents .  \\n \\n \\n1. General  \\n \\nOne set of the following Tender Documents are  issued for T ender purposes:  \\n  \\nVolume I  - Tender and Contract Requirements  \\nVolume II   - Bills of Quantities  \\nVolume III   - Specifications  \\nVolume IV   - Drawings  \\nVolume V   - Tenant Fit -out Guidelines  \\n \\n \\n2. Visiting Site and ex amining documents  \\n \\nThe Te nderer shall visit the site and shall be responsible for obtaining all information which may \\nbe necessary for the purpose of submitting a Tender and entering into a contract . He shall \\ncarefully examine the Tender Documents and sati sfy himself as to risks, obligations and \\nresponsibilities to be undertaken in the Contract.  \\n  \\nThe data provided is given without any guarantee that the conditions as shown are truly \\nrepresentative o f the entire site. The provision of this information does not absolve the \\nContracto r from responsibility for making his own interpretation and judging the completeness \\nof the information given.  \\n \\nNotwithstanding any information which may be contained in the  Tender Documents, prior to \\nsubmitting Tenders, the Tender ers shall make independen t inquiries as to the work forming the \\nsubject of the Project as well as the prevailing local conditions and must generally obtain their \\nown information on all matters that may, in any way, affect the scope of work, prices, risks o r \\nobligations of the Tend erer, should the Contract be awarded to him. The Tenderer shall \\nconsider all such matters and possible contingencies affecting the entire scope of work.  \\n \\nIn addition to the examination of the Tender Documents, the Tenderers shall m ake whatever \\narrangements  that are necessary for them to become fully informed regarding all existing and \\nexpected conditions and matters which might, in any way, affect the cost or performance of t he \\nWorks . \\n \\nAny failure to  fully investigate the Site and / or the foregoing instruct ions shall not relieve the \\nTenderer from responsibility for estimating properly any difficulties or procuring the successful \\nperformance of the Works.   PURE HE ALTH OFFICE AT  41ST FLOOR , VISION TOWER, DUBAI - UAE   \\nINTERIOR FITOUT  AND MEP WORKS PACK AGE  \\n \\n \\nVOL. I  – SECTION 1: INSTRUCTION S TO TENDERERS   \\nREV: 00    S1/2 3. Indemnity to Employ er \\n \\nThe Tenderer and / or any of his employees or agents sh all be granted permission  by the \\nEmployer to enter upon his premises and lands for the purpose of inspection in connection with \\nthe proposed Tender, but only on the condition that the Tenderer shall  comply with the \\ninstructions of the Engineer, and shall r elease and indemnify the Employer and Engineer and \\ntheir representative servants, and agents from and against all liability in respect of personal \\ninjury, loss or damage to property and any other lo ss, damage, cost and expense however \\ncaused which, but for  the exercise of such per mission, would not have arisen.  \\n \\n \\n4. Doubts and obscurities  \\n \\nShould there be any doubt or obscurity in the meaning in any of the Tender Documents or as to \\nanything to be done o r not to be done or as to any other matter or thing, the T enderer shall set \\nforth s uch doubt or obscurity in writing and submit the same to the Engineer and copy to the \\nEmployer, not later than 7 days before the date stipulated for delivery of Tenders. The  replies to \\nwritten queries, the explanations and clarific ations given and copies o f documents or drawings \\nshown during meetings shall be distributed as “Addendum” to all Tenderers not later than 3 \\ndays before the date stipulated for delivery of Tenders. N o instruction, clarification or other \\ninformation given ve rbally by the Engineer sh all be binding or taken into account in preparing \\nand evaluating Tenders unless and until such instruction  or clarification or information is \\nconfirmed in writing by the Eng ineer to all Tenderers. In no case shall any procedure in \\nconnection with clarifica tion and interpretation of Tender Documents give the right to Tenderers \\nto claim an extension of the time set for submitting Tenders.  \\n \\n \\n5. Quantities  \\n \\nThe quantities of the wor ks to be carried out under this Contract are given in the Tender \\nDocuments and meas ured in accordance with Principles of Measurement (International) for \\nWorks of Construction (June 1979) issued by The Royal Institution of Chartered Surveyors, 12 \\nGreat Geor ge Street, London SW1P 3AD,  UK and amended to suit  local c onditions and \\npractice . \\n \\nThe quantities inserted against items in the Bill s of Quantities are estimated quantities for the \\nworks for the purpose of Tender evaluation, and the Tenderer shall be deeme d to have \\nchecked and verified such quantities in the comp ilation of his Tender pri ce prior to the \\nsubmission of his tender. Upon the award of the contract, the priced bill s of quantities shall be \\nused solely for evaluating interim payments due to the Cont ractor, and as a schedule of rates \\nfor establishing the va lue of variations.  \\n \\n \\n6. Pricing \\n \\nAll items in the Tender Documents shall be priced and extended in ink. Any alteration in prices \\nshall be initialled by the person signing the Tender.  \\n \\nThe rates and pri ces set down by the Tenderer against the items in the Tend er Documents \\nshall be for  the full inclusive value of the finished work described there under  and shall include \\nfor profit and all obligations and liabilities of every kind arising under the Contrac t. \\n \\nEach item in the Tender Documents shall be priced. If any item is left non -priced, it shall be \\ndeemed that the cost of the work described there under  is allowed for elsewhere in the Tender \\nDocuments.  \\n \\n PURE HE ALTH OFFICE AT  41ST FLOOR , VISION TOWER, DUBAI - UAE   \\nINTERIOR FITOUT  AND MEP WORKS PACK AGE  \\n \\n \\nVOL. I  – SECTION 1: INSTRUCTION S TO TENDERERS   \\nREV: 00    S1/3 7. Fixed Price  \\n \\nThis Contract is a Fixed Price Lump Sum Contract and Tenderer shall include for all \\nfluctuatio ns that may occur during the Contract Period.  \\n \\n \\n8. Qualification s \\n \\nThe Tender shall be submitted solely on the basis of the Tender Documents and shall be free \\nof any qualifications. Should the Tenderer  wish to submit an alternative tenders to the Employer \\nfor consideration, such Tend er shall be additional to and completely separate from this Tender.  \\n \\n \\n9. Alternative Tenders  \\n \\nAlternative Tenders based on specifications that are different from the Specificat ion included in \\nthe Tender Documents shall be considered p rovided that a Tender, fu lly complying with the \\nconditions  laid down in the Tender Documents, is also submitted. The Tenderer shall give full \\ndetails of such alternative specifications together with  the effect, if any, on the Tender Sum.  \\nThe Employer shal l be free to accept which ever Tender he may select.   \\n \\nAlternative Tender shall be submitted in the manner stated in Clause 1 4 and 1 6 of these \\nInstructions to Tenderers and be endorsed “Alternative No. 1”. \\n \\n \\n10. Expenses of Tender  \\n \\nThe Employer shall not be re sponsible for, nor pay an y expenses, which may be incurred by \\nany Tenderer in the preparation and submission of his Tender.  \\n \\n \\n11. Documents to be Confidential  \\n \\nAll documents issued and information given  to the Tenderer shall be treated as confidential.  \\n \\n \\n12. Curre ncy \\n \\nThe currency of the Contract will be the United Arab Emirates Dirham (AED).  \\n \\n \\n13. Language  \\n \\nTender Documents are prepared in the English language. All correspondences during Tender \\nstage, Award of Contract and Execution of Contract shall be in the English  language.   \\n \\n \\n14. Tender docu ments to be submitted  \\n \\nThe Tenderer shall submit the complete set of original Tender Documents, together with two \\ncopies of the completed Form of Tender  and one copy of pric ed Volume II - Bills o f Quantities, \\nwhich shall be clearly  marked “COPY”. In the ev ent of any discrepancy, the information entered \\nin the original shall take precedence. Also, a copy of each Addendum issued by the Engineer, if \\nany, which shall be endorsed by the Tenderer, shall be included in the submission.  \\n   \\nThe Tenderer shall complet e the whole of the Tender Documents and shall sign and date the \\ndocuments in the spaces provided.  \\n \\nThe Tender and Appendix to Tender are to be completed in English . PURE HE ALTH OFFICE AT  41ST FLOOR , VISION TOWER, DUBAI - UAE   \\nINTERIOR FITOUT  AND MEP WORKS PACK AGE  \\n \\n \\nVOL. I  – SECTION 1: INSTRUCTION S TO TENDERERS   \\nREV: 00    S1/4 Every pa ge of the “original” Tender Documentation shall be stamped  with the company stamp \\nand initialled by the person signing the Tender. The Employer reserves the right to instruct the \\nsuccessful Tenderer to stamp and initial every page prior to the formal award  of the Contract.  \\n \\nThe Tender shall be signed by the princ ipal of the firm, or by a  person properly authorised for \\nthe purpose, and the registered name and address of the Tenderer shall be printed in block \\ncapitals in the space provided.  \\n \\nThe Tenderer shal l submit with his formal Tender a copy of the Power of Att orney to show \\nevidence th at the person or persons signing and initialling the Tender is / are authorised to bind \\nthe Tenderer fully and completely in such a Tender.  \\n \\nThe following documents shall be  submitted by the Tenderer along with his  Tender : \\n \\nA. Methodo logy Statement – an outline statement of the methods proposed for the \\nconstruction of the Works.  \\n \\nB. Construction Programme – a detailed programme, in bar chart or network form, showing \\nthe sequence of  initial construction and completion date(s) for the Works  or parts thereof . \\nContra ctor also must make a note of the Ramadan working times , Summer holidays around \\nthe world , any other similar risks which would affect the project program . \\n \\nC. Plant Schedule – a list of the major items of plant or equipment to be used  on the Works, \\ntogether w ith numbers, types and capacities.  Any additional equipment requires a separate \\napproval following a risk assessment.  \\n \\nD. Resources (manpower, equipment, etc.) upon which the C onstruction Programme is based.  \\n \\nE. Organisation Chart – a chart showing the proposed site staff and management organisation \\nfor the work and numbers of supervisors and labour  including the CV\\'s of all key personal .  \\n \\nF. Schedule of Sub -contractors and S uppliers  – a list of proposed sub -contractors and \\nsuppliers  includ ing local firms, with par ticulars of the work that shall be undertaken by them.  \\n \\nG. Schedule of Material Sources – the proposed sources of local naturally occurring materials \\nand aggregates.  \\n \\nH. Health, S afety and Environment – a health and s afety policy s tateme nt in related to the \\nexec ution of the Works . \\n \\nI. The Tenderer’s Trade License – a copy of valid trade license . \\n \\nJ. The Confi rmation of Site Visit – a form in Section 8 of Volum e I duly completed, dated an d \\nsigned by the person(s) who signed the Form of Tender . \\n \\nK. List of Tender Addendum – a schedule of all Tender Addendums received shall be \\ncompleted by t he Tenderer and shall be included in his submission, in order to confirm that \\nall Tender Addendums issued  have been taken into consideration, copies of each Tender \\nAddendum shall be attached hereto . \\n \\nL. Schedule of S ubmittals (reflected in the Construction Programme).  \\n \\nM. Other Documents:  any other documentation required to clarify the submission . \\n \\nAny failure to p rovide any or any part of the documents and information described above, may \\nresult in the Tender being rejected by the Employer as being invalid without further notice to the \\nTenderer.  \\n \\n PURE HE ALTH OFFICE AT  41ST FLOOR , VISION TOWER, DUBAI - UAE   \\nINTERIOR FITOUT  AND MEP WORKS PACK AGE  \\n \\n \\nVOL. I  – SECTION 1: INSTRUCTION S TO TENDERERS   \\nREV: 00    S1/5 15. Tender Bond  \\n \\nThe Tenderer shall submit with his Tender a Tender Bon d in the form as Section 6 – Specimen \\nForm of Tender Bon d, from an approved bank in the UAE. The Bank shall be subject to the \\napproval of the Employer. The amount of the bond shall be 5% (five percent) of the total tender \\nsum as surety against the withdraw al of the Tender before the expiry of the period of vali dity of \\nTenders, or other wise failing to comply with the terms of the Tender.   \\n \\nShould the successful Tenderer fail or refuse to execute the Contract Agreemen t and/ or fail to \\nfurnish the Performance  Security satisfactorily within 7 days of the issuance o f the Letter of \\nAcceptanc e, the successful Tenderer shall be considered to have abandoned his Tender and \\nthe Tender Bond will be confiscated.  \\n \\nThe validity of tender should be 90 days and the successf ul Tenderer shall extend the validity \\nof the Tender Bond  until he provides the Pe rformance Security in accordance with the \\nConditions of Contract, at which time the Tender Bond shall be returned.  \\n \\n16. Delivery of Tender  \\n \\nThe Tender shall be submitted in plain envelopes or packages with all joints pro perly sealed \\nwith red sealing wax and sh all not be marked with the identity of the Tenderer. The Tender \\nshall be addressed to:  \\n   \\n  PURE HEALTH  MEDICAL SUPP LIES LLC   \\n  3401  Vision Tower  \\nBusiness Bay,  \\nDubai, UAE  \\n \\n \\nThe envel opes or package s shall also be endorsed as follows:  \\n \\nTender for the execution and completion of the: - \\n \\nPURE HEALTH OFFICE AT  41ST FLOOR, VISION TOWER, DU BAI - UAE  – \\nINTERIOR FITOUT AND MEP WORKS PACKAGE   \\n \\nThe Tender shall be deposited not later than 12 :00 noon, on the date defined in the letter of  \\ninvitation or any grante d extension of time.  \\n \\n \\n17. Correction of E rrors  \\n \\nThe rates and prices contained in the Tender Documents shall be examined prior to the \\nawarding of the Contract in order to asce rtain that the items are ex tended correctly at the rates \\nquoted.  Should any error b e found, the rate shall remain unaltered and the extended amount \\nshall be corrected, and the Tenderer may be requested to confirm the revised Tender Sum. The \\ntotal amount o f the Tender shall be amend ed accordingly. Any or all corre ctions necessary may \\nbe m ade without reference to the Tenderer and the revised tender price shall be determined \\nwhich shall be used for the purpose of comparison with other Tenderers and as a basis  for \\ncontract award, if any . \\n \\nFailure by the Employer or th e Engineer to discover an y error during the checking of the Tender \\nshall not entitle the successful Tenderer (or any other tenderer)  to make a claim for payment \\nagainst the error if it is subsequen tly discovered.   \\n \\n \\n \\n \\n PURE HE ALTH OFFICE AT  41ST FLOOR , VISION TOWER, DUBAI - UAE   \\nINTERIOR FITOUT  AND MEP WORKS PACK AGE  \\n \\n \\nVOL. I  – SECTION 1: INSTRUCTION S TO TENDERERS   \\nREV: 00    S1/6 18. Accept ance \\n \\nThe Employer shall not bi nd himself to accept the lowest or any Tender and shall not state a \\nreason for the acceptance or rejection of a Tender.  \\n \\n \\n19. Return of Tender Bond  \\n \\nAfter the Contract has been awarded, the Tender Bond  shall be returned by the Em ployer to \\nthe unsuccessful Tend erers, provided that the Bond has not been confiscated.  \\n \\n20. Address of the Contractor  \\n \\nThe Tenderer shall state in his T ender the address in U.A.E.  to which all correspondence \\nconcerning his Tender sh all be addressed.  \\n \\n \\n21. No alter ation to be made to documents  \\n \\nNo alteration, other than  filling in all the blanks intended to be filled in, shall be made in any of \\nthe documents i ssued. If any alteration is made and if these instructions are not fully complie d \\nwith, the Tender shall be rejected.  \\n \\n \\n22. Tender Bond - confi scation  \\n \\nShould the Tende r not be completed and submitted as stated in these Instructions to \\nTenderers, the  Employer reserves the right to confiscate the Tender Bond in whole or in part as \\nthe circ umstances warrant.  \\n \\n \\n23. Locatio n of Site \\n \\nThe Site is located  at 41st Floor, Vision  Tower, Dubai , U.A.E.  \\n \\n \\n24. Description of Project  \\n \\nScope of Works includes but is not limited to Execution and Completion of the Interior Fitout \\nand MEP Works  and remedies any defects therein in accorda nce with the prov isions of the \\nContract an d as per the specified Contract period, for Pure Health Office at 41st Floor, Vision \\nTower, Dubai - UAE .   \\n \\n \\n25. Conditions of Contract  \\n \\nThe General Conditions o f Contr act shall be th e Conditions of Contract for C onstruction fo r \\nBuilding and Engineering Works Designed by the Employer (First Edition 1999) issued by the \\nFederatio n Internationale des Ingenieurs Conseils (FIDIC).  \\n \\nTenderers are deemed to be in possess ion of their own copy of the Standard Documents at \\ntender stage an d to be fully aware of and to have understood the contents thereof.  \\n \\nA copy of the General Conditions is available for reference at the Office of the Engineer  or may \\nbe obtained from the off ice of FIDIC P.O. Box 311, 1215 Geneva 15, Switzerla nd at a nomina l \\ncost, which amount shall borne by the Tenderer.  \\n \\n PURE HE ALTH OFFICE AT  41ST FLOOR , VISION TOWER, DUBAI - UAE   \\nINTERIOR FITOUT  AND MEP WORKS PACK AGE  \\n \\n \\nVOL. I  – SECTION 1: INSTRUCTION S TO TENDERERS   \\nREV: 00    S1/7 26. Performance Security  \\n \\nThe Tenderer is notified th at the unconditional and irrecoverable Performance Security, to be \\nprovided by the succes sful Te nderer under t he provisions of the Condition s of Contract,  shall \\nbe from an approved Bank in Dubai  and payable to the Employer on first demand and val id and \\nenforceable until the Contractor has executed and completed the Works and remedied any \\ndefects.  \\n \\nThe Bank shall b e subject to the approval of t he Employer.   \\n \\n \\n \\n27. Contract Insurances  \\n \\nThe Tenderer is notified that the contractual insurances, to be prov ided by the successful \\nTenderer under the provisions of the Conditions of Contract, shall be fr om an appr oved \\ninsurance comp any in the Dubai . \\n \\nThe ins urance company  and the insurance policies shall be subject to the approval of the \\nEmployer.  \\n \\n \\n28. Advance Payment  \\n \\n25% of the Accepted Contract Amount  \\n \\n \\n29. Trade L icence  \\n \\nThe Tenderer must have a  valid Trade Li cence and be registered with the Dubai Chamber of \\nCommerce  and submit docu mentary evidence confirming the same with his Tender.  \\n \\n \\n30. Adjustment Item  \\n \\nThe adjustment item, if any, in the Summary of the Bills of Qu antities in the Tender Documents  \\nshall apply to  all items of work, excluding Provisional Sums unless clear ly indicated other wise. \\nThe adjustment shall not be a lump -sum but a percentage of the total tendered sum \\nexcluding Provisional Sums or a percentage o f the totals for the items indic ated. The \\nadjus tment shall be applied to all applicable item rates and sum s including any ad denda. The \\nContract shall be signed with the inclusion of the adjusted rates and sums. And the adjusted \\nrates and sums shall be appl ied to  payments, evaluation of v ariations (incl uding \\nremeasurements) and final account.  \\n \\n \\n31. Details of Other  Contracts on Site  \\n \\nThe e xistence of other contracts on site is to be ascertained by the Tenderer at the time of \\nTender submission. Co -ordination betw een the existing  contractor and the successful Tenderer \\nwill be required to avoid any conflict in operatio ns including acces sibility which would cause \\nharm to each other’s property, works and work programmes.  \\n \\n \\n32. Not Used  \\n \\n SECTION 2  \\n \\nFORM OF TENDER & APPENDIX PURE HEALTH OFFICE  AT 41ST FLOOR , VISION T OWER, DUBAI - UAE   \\nINTERIOR FITOUT  AND MEP WORKS PACKAGE  \\n \\n \\nVOL. I  – SECTION 2: FORM OF TENDER & APPENDIX   \\nREV: 00   S2/1 FORM OF TENDER  \\n \\n \\nTo: PURE HEALTH  MEDICAL SUPPLIES LLC  \\n 3401  Vision Tower , Business Bay,  \\n P.O. Box 283572 , Dubai, UAE  \\n \\n    \\nTender For:  PURE HEALTH OFFICE AT 41ST FLOO R AT VISION TOWER, DUBAI - UAE  – \\nINTERIOR FITOUT AND MEP WORKS  PACKAGE  \\n \\nDear Sir,  \\n \\n1. Having exam ined the Tender Documents and the matters set out in the Appendix hereto for the \\nexecutio n of the above named Works, and having visited and examined the Site of the Works \\nor caused it to be visited on our behalf by a competen t and reliable person and havin g acquired \\nall requisite information relating thereto as affecting this Tender, we the un dersigned, hereby \\noffer to construct, complete and maintain such Works in conformity with the Tender Documents \\nthe Contract Pric e of  \\n U.A.E.  Dirhams ……………………………………………… ……………………… ....................... …. \\n \\n (AED.……………………………)  or such other sums as may be asce rtained in accordance with \\nthe said Conditions.  \\n \\n2. We acknowledge that the Appendix forms part of our Tender.  \\n \\n3. We have price d the Bi lls of Quantities in detail and  return them with this Tender together with all \\nthe information requested in the Instruct ions to Tenderers and other Contract Documents.  \\n \\n4. We confirm that we have fully taken into account the Tender Circulars and Bu lletins listed \\nbelow, copies of which a re returned with our Tender.  \\n \\n ………………………………………………………………………………………  \\n \\n ………………………………………………………… ……………………………  \\n \\n ………………………………………………………………………………………  \\n \\n ………………………………………………………………………………………  \\n             \\n ……………………………………………………………………………… ………  \\n  \\n5. We undertake if our Tender is accepted to commence the Works to complete and deliver the \\nwhole of the Works comprised i n the Contract within the time stated in the Appendix to Tender \\nand confirm that the period(s) stated include all  Sunday s, Publi c Holida ys, etc.  and other non -\\nworking days caused by inclement weather, etc., and shortened working hours during the Holy \\nMonth  of Ramadan.  \\n \\n6. In consideration of the trouble and expense incurred by you in preparing the contract and in \\nexamining and cons idering this Tender, we agree to abide by this Tender for a period of 90 \\ndays from the date fixed for receiving the same and it shall remain binding upon us and may be \\naccepted at any time before the expiration of that period.  TWO MILLION FOUR HUNDRED FIFTY-EIGHT THOUSAND THREE HUNDRED FORTY-TWO ONLY\\n2,458,342.00/-\\nTender Addendum No.01 Dated 13th January 2022 Tender Addendum No.02 Dated 14th January 2022\\nTender Addendum No.03 Dated 18th January 2022\\nPost Tender Clarification-1 (Part 1) Dated 7th Feb 2022 Post Tender Clarification-1 (Part 2) Dated 8th Feb 2022\\nPost Tender Clarification-1 (Part 3) Dated 10th Feb 2022 Post Tender Clarification-2 Dated 17th Feb 2022\\nPost Tender Clarification-3 Dated 22nd Feb 2022    Post Tender Clarification-3 (Part 2) Dated 23rd Feb 2022\\nPost Tender Clarification-4 Dated 01st March 2022 Post Tender Clarification-5 Dated 09th March 2022PURE HEALTH OFFICE  AT 41ST FLOOR , VISION T OWER, DUBAI - UAE   \\nINTERIOR FITOUT  AND MEP WORKS PACKAGE  \\n \\n \\nVOL. I  – SECTION 2: FORM OF TENDER & APPENDIX   \\nREV: 00   S2/2 7. We undertake in the event  of this  Tender being accepted to enter  into an agreement with you in \\nthe form annexed hereto which may be altered and added to in such manner as you may \\nrequire for the purpose of adapting it to the circumstances of this Tender.  \\n \\n8. We understand that you  are not  bound to accept the lowest or any Tender you may receive.  \\n \\n \\nDated this …………………………… .…………… day of   … ………………………. 202 2 \\n \\nName: …………………………………………….. (Signature) …………………………....  \\n \\nActing in the capacity of …………………………………………………………………….  \\n \\nDuly authorized to s ign Tend er for and on behalf of   \\n \\nFull Name of Company ………...................................................................... ........................  \\n \\nAddress  ……….......................................................................................... ........ ........  \\n \\nStamp   ………........... .......................................................................................... ..... \\n \\nWitness     \\n \\nSignature  ………...................................................  \\n \\nName   ………................................ ........ ...........  \\n \\nAddress  ………....... ............................................  09TH MARCH\\nUMESH MIRCHANDANI\\nMANAGING DIRECTOR\\nCONCEPT INTERIORS\\nP.O. BOX: 66020, EMIRATES INDUSTRIAL CITY, SAJJA - SHARJAH\\nNITESH KAPOOR\\nSHARJAHPURE HEALTH OFFICE  AT 41ST FLOOR , VISION T OWER, DUBAI - UAE   \\nINTERIOR FITOUT  AND MEP WORKS PACKAGE  \\n \\n \\nVOL. I  – SECTION 2: FORM OF TENDER & APPENDIX   \\nREV: 00   S2/3 APPENDIX TO FORM OF TENDER  \\n \\nThis Appendix fo rms part of the Tender, the Conditions of Contract shall be Federation Internationale \\nDes Ingenious - Conseils (FIDIC) Conditio ns of Co ntract for Construction, first edition 1999 as amended \\nherein. Contractors are deemed to be in possession of their own co py of this document at tender stage \\nand to be fully aware of and have understood the content therein.  \\n \\n[Note: with the excepti on of th e items for which the Employer\\' s requirements have been inserted, \\nthe Contractor shall complete the following information  before submitting his offer]  \\n \\n \\nItem \\n \\nEmployer\\'s name and address  ..........   \\n \\n \\n \\nContractor\\'s name and address  .........   \\n \\n \\nEngineer\\'s name and ad dress  ...........   \\n \\n \\n \\nTime for Completion of the Works ......  \\n \\n \\nDefects Notification Period  ..................   \\n \\nElectronic transmission systems  .........   \\n \\nGoverning Law  ................................ ....  \\n \\n \\nRuling language  ................................ ..  \\n \\nLanguage for communications  ............   \\n \\n \\n \\n \\n \\n \\n \\n \\n \\n \\n \\n \\n \\n \\n \\n \\nInitials of signatory of Tender  Sub-Clause  \\n \\n1.1.2 .2 & 1.3  \\n \\n \\n \\n1.1.2.3 & 1.3  \\n \\n \\n1.1.2.4 & 1.3  \\n \\n \\n \\n1.1.3.3  ...........   \\n \\n \\n1.1.3.7  ...........   \\n \\n1.3 .................   \\n \\n1.4 .................   \\n \\n \\n1.4 .................   \\n \\n1.4 .................   \\n \\n \\n \\n \\n \\n \\n \\n \\n \\n \\n \\n \\n \\n \\n \\n \\n Data    \\n \\nPURE H EALTH  MEDICAL SUPPLIES LLC  \\n3401  Vision Tower , Business Bay , \\nP.O. Box 283572, Dubai , UAE  \\n______________________________  \\n_________ _____________________  \\n___________________ ___________  \\n \\nPURE H EALTH  MEDICAL SUPPLIES LLC  \\n3401  Vision Tower , Business Bay , \\nP.O. Box 283572, Dubai , UAE  \\n \\n90 Days  (from Commencement Date) including \\nmobil ization  \\n \\n365 days  from date of Taking-Over Certificate  \\n \\nEmail  \\n \\nApplicable L aws of Dubai  and Law s of United \\nArab Emirates (UAE)  \\n \\nEnglish  \\n \\nEnglish  \\n \\n \\n \\n \\n \\n \\n \\n \\n \\n \\n \\n \\n \\n \\n \\n \\n  \\nCONCEPT INTERIORS\\nEMIRATES INDUSTRIAL CITY, SAJJA\\nP.O.BOX: 66020, SHARJAH, U.A.EPURE HEALTH OFFICE  AT 41ST FLOOR , VISION T OWER, DUBAI - UAE   \\nINTERIOR FITOUT  AND MEP WORKS PACKAGE  \\n \\n \\nVOL. I  – SECTION 2: FORM OF TENDER & APPENDIX   \\nREV: 00   S2/4 Item \\n \\nDocuments forming the Cont ract lis ted \\nin the order of priority  \\n \\nDocuments  \\n \\n(a) Contract Agreement  \\n(b) Letter of Acceptance  \\n(c) Form of Tender  \\n(d) Particular Conditions  \\n(e) General Conditions  \\n(f)  Post Tender Clarification s \\n(g) Tender Addenda  \\n(h) Specifi cations  \\n(i)  Drawings  \\n(j)  Tenant Fit -out Guidelines  \\n(k) Bills of Quantities  \\n  \\nTime for access to the Site  .................   \\n \\nAmount of Performance Security  ........   \\n \\nNormal w orking hours  .........................   \\n \\nCommencement Date  ………………..  \\n \\nDelay da mages for the Works  .............   \\n \\nMaxi mum amount of delay damages  \\n \\nPercentage  for adjustment of \\nProvisional Sums  ................................   \\n \\nTotal advance payment  .......................   \\n \\nNumber  and ti ming of instalments  ......  \\n \\nCurrencies and proportions  .................   \\n \\nStart repayment of advance payment  \\n \\nRepayment amortisation of a dvance \\npayment  ................................ ..............   \\n \\nPercentage of retention  .......................   \\n \\n \\nMaterials intended  for the Works........  \\n \\n \\n \\n \\nInitials of signat ory of Tender  Sub-Clause  \\n \\n1.5 \\n \\n \\n \\n \\n \\n \\n ......................   \\n ......................   \\n ......................   \\n \\n \\n ......................   \\n ......................   \\n ......................   \\n ......................   \\n \\n2.1 .................   \\n \\n4.2 .................   \\n \\n6.5 .................   \\n \\n8.1 ………….  \\n \\n8.7&14 .15(b)  \\n \\n8.7 .................   \\n \\n \\n13.5(b)  \\n \\n14.2 ...............   \\n \\n14.2 ...............   \\n \\n14.2 ...............   \\n \\n14.2(a)  \\n \\n \\n14.2(b)  ...........   \\n \\n14.3 ...............   \\n \\n \\n14.5................  \\n \\n  \\n Data  \\n \\n \\n \\n \\nDocument identification  \\n \\n \\n \\nVolume I  – Tender Document s \\nVolume I  – Tende r Document s \\nVolume I  – Tender Documen ts \\n \\n \\nVolume III – Tender Document s \\nVolume IV – Tender Document s \\nVolume V – Tender Document s \\nVolume II – Tende r Document s \\n \\nas per Building Ma nagement \\n \\n10% of the Accepted Contract Amount  \\n \\nAs stated in Particular Conditions of Cont ract \\n \\nAs stated in L etter of Acceptance  \\n \\nAED 13,660 .00 per day \\n \\n10% of the final Contract Price  \\n \\n \\n (*) \\n \\n \\nAs per the milestone paym ent schedule  \\nprovided in the Le tter of Accept ance (Clause 3)   \\n \\nUnited Arab Emirates  Dirhams  \\n \\nN/A (milestone payment s) \\n \\n \\nN/A ( milestone payments)  \\n \\nAs per the mil estone payment sch edule \\nprovided in  the Letter of Acceptance (Cl ause 3)  \\n \\nN/A (milestone  payments)  \\n PURE HEALTH OFFICE  AT 41ST FLOOR , VISION T OWER, DUBAI - UAE   \\nINTERIOR FITOUT  AND MEP WORKS PACKAGE  \\n \\n \\nVOL. I  – SECTION 2: FORM OF TENDER & APPENDIX   \\nREV: 00   S2/5 Item \\n Sub-Clause  \\n Data  \\nMinimum amount of Interim Payment \\nCertificates  ................................ ..........   \\n  \\n14.6..............   \\nNil \\n \\nCurrency/ currencies of payment  ........   \\n \\nPeriod s for submission of insuran ce: \\n(a) evi denc e of insurance .................   \\n(b) relevant policies  ..........................   \\n \\nInsuran ce for W orks and Contracto r’s \\nequipment................ ... \\n \\nMaximum amount of deductibles for \\ninsurance of the Employer\\'s risk s .......  \\n \\nMinimum amount of third party \\ninsuran ce ................................ .............   \\n \\n  \\n \\n \\n \\n \\n \\n \\n \\n \\n \\n \\n \\n \\n \\n \\n \\n \\n \\n \\n \\n \\n \\n \\n \\n \\n \\n \\n \\n \\n \\nInitials of signat ory of Tender   \\n 14.15(a) &(b) \\n \\n \\n18.1 (a) ..........  \\n18.1 (b)  ..........  \\n \\n \\n18.2.... ......... . \\n \\n \\n18.2(d)  ...........  \\n \\n \\n18.3 ...............  \\n \\n \\n \\n \\n \\n \\n \\n \\n \\n United Arab Emir ates Dirhams  \\n \\n \\nPrior to commencement  \\nPrior to commencem ent \\n \\n \\n120% of the value of Works ( No exclusion)  \\n \\n \\nNil \\n \\n \\nAED 3,000,000.00  \\n \\n \\n \\n \\n \\n*To be filled in by the Tenderer  SECTION 3  \\n \\nCONTRACT AGREEMENT  & APPENDIX  \\n PURE HEALTH OFFICE AT  41ST FLOOR , VISION TOWER, DUBAI - UAE  \\nINTERIOR FITOUT  AND MEP W ORKS PACKAGE  \\n \\n \\nVOL. I  – SECTION 3: CONTRACT AGRE EMENT  & APPENDIX   \\nREV. 00    S3/1 CONTRACT AGREEMENT  \\n \\n \\nThis Agreement  made the ……………… day of…………………………. 2022 \\n \\nBetween  \\n \\nPURE HEALTH  MEDICAL SUPPLIES LLC  \\n3401  Visio n Tower , Business Bay, \\nP.O. Box 283572 , Dubai , UAE  \\n \\n(hereinafter called the “Employer”) of the one part  \\n \\nand \\n \\nConcept Inte riors at P.O.  Box 66020, Sharjah , UAE   \\n(hereinafter called the “Contractor”) of the oth er part.  \\n \\n \\nWhereas  the Employer desires that the Works known as  Pure Health Office at  41st Floor, Vision  \\nTower, Dubai - UAE  – Interior Fitout and ME P Works  Package  should be executed by the \\nContractor, and  has accepted a Tender by the Contractor for the execution and  completion of these \\nWorks and the remedying of any defects therein.  \\n \\nThe Employer and the Contract or agree  as foll ows: \\n \\n1. In this Agreement words and exp ressions shall have the same meanings as are respectively \\nassigned to them in the Conditions of Contract  hereinafter referred to.  \\n \\n2. The Employer will pay to the Contractor the sum of  \\n \\nAED 2,458,342.000  (in numb ers) \\n AED Two Million Four H undred Fifty-Eight Thousand Three Hundred Forty -Two Only (in words)  \\n(hereinafter referred to as the “Contract Price\") or suc h other sum as shall becom e payabl e \\nunder the Contract , in accordance w ith the m ilestone payment schedule provided in the Letter  \\nof Acceptance ref. no. PH/CD/1/2 2 dated 10th March 2022 (Clause  3) \\n \\n3. The following documents shall be deemed to  form and be read and co nstrued as part of this \\nAgreement:  \\n \\na) The Cont ract Agreement ; \\nb) The Letter of Accepta nce; \\nc) The Form of Tender ; \\nd) The Partic ular Conditions ; \\ne) The General Conditio ns; \\nf) The Post Tender Clarifications ; \\ng) The Tender Addenda ; \\nh) The Specifications ; \\ni) The Drawings ; \\nj) The Tenant Fit -out Guide lines; \\nk) The Bills of Quantities  \\n \\n \\n \\n \\n \\n \\n \\n 07TH APRILPURE HEALTH OFFICE AT  41ST FLOOR , VISION TOWER, DUBAI - UAE  \\nINTERIOR FITOUT  AND MEP W ORKS PACKAGE  \\n \\n \\nVOL. I  – SECTION 3: CONTRACT AGRE EMENT  & APPENDIX   \\nREV. 00    S3/2 4. In consideration of the payments to be mad e by the Employer  to the Contractor as hereinafter \\nmentioned , the Contractor hereby covenan ts with the Employer to execute and complete the \\nWorks and remedy any defec ts or omissions therein , in conformity with the provisions of the \\nContract.  \\n \\n5. The Empl oyer hereby covenants to pay the Contractor , in consideration of the  execution and \\ncompletion of the Works and the remedyin g of defects therein, the Contract Price at the times \\nand in the manner prescribed  above . \\n \\nIn Witness  whereof the parties hereto have  caus ed this  Agreement to be executed the day and year \\nfirst above w ritten.  \\n \\n \\nDuly aut horized to sign this Contra ct \\nfor and on behalf of  the Employer :- \\n \\nSignature:  ……………… …………………………………………………….....................  \\nName :   ………………………………………………………………………... .............. \\nPosition:  ……………………………………………………………………….................  \\n \\nIn the presence of: - \\nSignature:  ………………………….............. ..……………………..  \\nName:  …………………………………….............. ..…………..  \\nAddress:  …………………................……… ……………………..  \\nOccupation:  ……………………………... .............…………………..  \\nStamp:  \\n \\n \\n \\nDuly authorized to sign this Contract  \\nfor and on behalf of the Cont ractor: - \\n \\nSignature:  ……… …………………………………………………………….....................  \\nNam e :   ………………………………………………………………………........... ...... \\nPosition:  …………………………………………………… ………… ……….. ...............  \\n \\nIn the presence of: - \\nSignature:  ………………………….... ............……………………..  \\nName:  ……………………………………........... .....…………..  \\nAddress:  …………………................………… …………………..  \\nOccupation:  ……………………………........... .....…………………..  \\nStamp:  \\n \\n \\n \\n \\n \\n \\n UMESH MIRCHANDANI\\nMANAGING DIRECTOR\\nNITESH KAPOOR\\nSHARJAH\\nPROJECT MANAGERPURE HEALTH OFFICE AT  41ST FLOOR , VISION TOWER, DUBAI - UAE  \\nINTERIOR FITOUT  AND MEP W ORKS PACKAGE  \\n \\n \\nVOL. I  – SECTION 3: CONTRACT AGRE EMENT  & APPENDIX   \\nREV. 00    S3/3 APPENDIX  TO CONTR ACT AGREEMENT  \\n \\nThis Appendix fo rms part of the Contract , the Co nditions of Contract shall be Federation Internationale \\nDes Ingenious - Conseils (FIDIC) Conditions of  Contract for Construction, first edition 199 9 as amended \\nherein. Contractors are deem ed to  be in possession of their own co py of this document at tender stage \\nand to be fully aware of and have understood the content therein.  \\n \\n \\n \\nItem \\n \\nEmployer\\'s name and address  ..........   \\n \\n \\n \\nContractor\\'s name and address  .........   \\n \\n \\nEngineer\\'s name and address  ...........   \\n \\n \\n \\nTime for Completion of the Works ......  \\n \\n \\nDefects Notification Period  ..................   \\n \\nElect ronic transmission systems  .........   \\n \\nGoverning Law  ................................ ....  \\n \\n \\nRuling language  ................................ ..  \\n \\nLanguage for communications  ............   \\n \\n \\n \\n \\n \\n \\n \\n \\n \\n \\n \\n \\n \\n \\n \\n \\n \\n \\n \\n \\n \\n \\nInitials of signatory of Tender  Sub-Clause  \\n \\n1.1.2 .2 & 1.3  \\n \\n \\n \\n1.1.2.3 & 1.3  \\n \\n \\n1.1.2.4 & 1.3  \\n \\n \\n \\n1.1.3.3  ...........   \\n \\n \\n1.1.3.7  ...........   \\n \\n1.3 .................   \\n \\n1.4 .................   \\n \\n \\n1.4 .................   \\n \\n1.4 .................   \\n \\n \\n \\n \\n \\n \\n \\n \\n \\n \\n \\n \\n \\n \\n \\n \\n \\n \\n \\n \\n \\n \\n Data    \\n \\nPURE H EALTH  MEDICAL SUPPLIES LLC  \\n3401 Vision Tower , Business Bay , \\nP.O. Box 283572, Dub ai, UAE  \\n \\nConcept Interiors   \\nP.O. Box  66020, Sharjah, UAE \\n \\nPURE H EALTH  MEDIC AL SUPPL IES L LC \\n3401  Vision Tower , Business Bay , \\nP.O. Box 283572, Dubai , UAE  \\n \\n90 Days  (from Commencement Date) including \\nmobilization   \\n \\n365 days  from date of Taking-Over Certificate  \\n \\nEmail \\n \\nApplicable L aws of Dubai  and La ws of United  \\nArab  Emirates (UAE)  \\n \\nEnglish  \\n \\nEnglish  \\n \\n \\n \\n \\n \\n \\n \\n \\n \\n \\n \\n \\n \\n \\n \\n \\n \\n \\n \\n \\n \\n \\n  PURE HEALTH OFFICE AT  41ST FLOOR , VISION TOWER, DUBAI - UAE  \\nINTERIOR FITOUT  AND MEP W ORKS PACKAGE  \\n \\n \\nVOL. I  – SECTION 3: CONTRACT AGRE EMENT  & APPENDIX   \\nREV. 00    S3/4 Item \\n \\nDocuments forming the Contract li sted \\nin the order of priority  \\n \\nDocuments  \\n \\n(a) Contract Agreement  \\n(b) Let ter of Acceptance  \\n(c) Form of Tender  \\n(d) Particular Conditions  \\n(e) General Conditions  \\n(f)  Post Tender  Clarification s \\n(g) Tender Addenda  \\n(h) Specif ications  \\n(i)  Drawings  \\n(j)  Tenant Fi t-out Gui delines  \\n(k) Bills of Quantities  \\n  \\nTime for access to the Site  .................   \\n \\nAmount of Performance Security  ........   \\n \\nNormal w orking hours  .........................   \\n \\nCommencement Date  ………………..  \\n \\nDelay da mages for  the Works  .............   \\n \\nMaximum amount of delay damage s \\n \\nPercentage for adjustment of \\nProvi sional Su ms ................................   \\n \\nTotal advance payment  .......................   \\n \\nNumber  and ti ming of instalments  ......  \\n \\nCurrencies and proportions  .................   \\n \\nStart repayment of advance payment  \\n \\nRepayment amortisation of a dvance \\npayment  ................................ ..............   \\n \\nPercentage of retention  .......................   \\n \\n \\nMaterials intended  for the Works........  \\n \\n \\n \\n \\n \\nInitials of signat ory of Tender  Sub-Clause  \\n \\n1.5 \\n \\n \\n \\n \\n \\n \\n ......................   \\n ......................   \\n ......................   \\n \\n \\n ......................   \\n ......................   \\n ......................   \\n ......................   \\n \\n2.1 .................   \\n \\n4.2 .................   \\n \\n6.5 .................   \\n \\n8.1 ………….  \\n \\n8.7&14.15(b)  \\n \\n8.7 .................   \\n \\n \\n13.5( b) \\n \\n14.2 ...............   \\n \\n14.2 ...............   \\n \\n14.2 ...............   \\n \\n14.2(a)  \\n \\n \\n14.2(b)  ...........   \\n \\n14.3 ...............   \\n \\n \\n14.5................  \\n \\n  \\n Data  \\n \\n \\n \\n \\nDocument identification  \\n \\n \\n \\nVolume I  – Contract  Docume nts \\nVolum e I – Contr act Document s \\nVolume I  – Contract  Documen ts \\n \\n \\nVolume III – Contract  Docume nts \\nVolume IV – Contract  Document s \\nVolume V – Contract  Document s \\nVolume II – Contract  Document s \\n \\nas per Building Manage ment  \\n \\n10% of the Accepted Contract Amount  \\n \\nAs stated in Particul ar Conditions of Cont ract \\n \\nAs stated in L etter of Accep tance  \\n \\nAED 13,660 .00 per day \\n \\n10% of the final Contract Price  \\n \\n \\n (*) \\n \\n \\nAs per t he milestone paym ent schedule \\nprovided in the Le tter of Acceptance (Clause 3)   \\n \\nUnited Arab Em irates  Dirhams  \\n \\nN/A (milestone paymen ts) \\n \\n \\nN/A ( milestone payments)  \\n \\nAs per the milestone payment schedule  \\nprovided in the Letter of Acceptance (Cl ause 3)  \\n \\nN/A (m ilestone  payments)  \\n PURE HEALTH OFFICE AT  41ST FLOOR , VISION TOWER, DUBAI - UAE  \\nINTERIOR FITOUT  AND MEP W ORKS PACKAGE  \\n \\n \\nVOL. I  – SECTION 3: CONTRACT AGRE EMENT  & APPENDIX   \\nREV. 00    S3/5 Item \\n Sub-Clause  \\n Data  \\nMinimum amount of Interim Payment \\nCertificates  ................................ ..........   \\n  \\n14.6..............   \\nNil \\n \\nCurrency/ currencies o f pay ment  ........   \\n \\nPeriod s for submission of insurance:  \\n(a) evid ence of insur ance .................   \\n(b) relevant policies  ..........................   \\n \\nInsuran ce for  Works and Contracto r’s \\nequipment...................  \\n \\nMaximum amount of deductibles for \\ninsura nce of the Employer\\'s risk s .......  \\n \\nMinimum  amount of t hird party \\ninsuran ce ................................ .............   \\n \\n  \\n \\n \\n \\n \\n \\n \\n \\n \\n \\n \\n \\n \\n \\n \\n \\n \\n \\n \\n \\n \\n \\n \\n \\n \\n \\n \\n \\n \\n \\n \\nInitials of sig natory of Tender   \\n 14.15(a)&(b)  \\n \\n \\n18.1 (a)  ..........  \\n18.1 (b)  ..........  \\n \\n \\n18.2.... ......... . \\n \\n \\n18.2(d)  ...........  \\n \\n \\n18.3 ...............  \\n \\n \\n \\n \\n \\n \\n \\n \\n \\n United Arab Emirates Dirhams  \\n \\n \\nPrior to commencement  \\nPrior to commence ment \\n \\n \\n120% of the value of Works ( No exclusion)  \\n \\n \\nNil \\n \\n \\nAED 3,000,000.00  \\n \\n \\n \\n \\n \\n*To be filled in by the Tenderer  \\n SECTION 4  \\n \\nCONDITIONS OF CONTRACT (PART I) – \\nGENERAL CONDITIONS  PURE HEALTH OFFICE AT 41st FLOOR, VISION TOWER, DUBAI - UAE  \\nINTERIOR FITOUT AND MEP WORKS PACKAGE  \\n \\n \\nVOL. I – SECTION 4: CONDITIONS OF CONTRACT (PART I) – GENERAL CONDITIONS   \\nREV: 00   S4/1 Part I  \\n \\n \\nConditions of Contract  – General Conditions  \\n \\n \\nThe General Conditions of Contract shall be the Conditions of Contract for Construction for Building and \\nEngineering Works designed by the Employer (First Edition 1999) prepared by Federation \\nInternati onale Des Ingenieurs -Conseils (FIDIC), and amended or supplemented by Conditions of \\nParticular Application (Part II of Conditions of Contract).  \\n \\nAll provisions of all Clauses not specifically amended herein shall remain in full force and effect.  \\n \\nThe claus es of the Particular Conditions of Contract (Part II) shall take precedence over the clauses of \\nthe General Conditions of Contract (Part I).  \\n \\nTenderers are deemed to be in possession of their own copy of the Standard Documents at tender \\nstage and to be ful ly aware of and to have understood the contents thereof.  \\n \\nA copy of the General Conditions is available for reference at the Office of the Project Manager or may \\nbe obtained from the office of FIDIC P.O. Box 311, 1215 Geneva 15, Switzerland at a nominal co st \\nwhich amount shall be borne by the Tenderer.  \\n \\n \\n \\n \\n \\nEnd of Section  \\n \\n \\n \\n \\n \\n \\n \\n \\n SECTION 5  \\n \\nCONDITIONS OF CONTRACT (PART II) – \\nPARTICULAR CONDITIONS   \\n PURE HEALTH OFFICE AT 41st FLOOR , VISION TOWER, DUBAI - UAE  \\nINTERIOR F ITOUT  AND MEP WORKS PACKAGE  \\n \\n  \\n \\nVOL. I – SECTION 5: C ONDIT IONS OF CONTRACT (PART II) – PARTICULAR CONDITI ONS   \\nREV: 00   S5/1 Part II  \\n \\nConditions of Contract  – Particular Conditions  \\n \\nThese are the Particular Conditions referred to in the Contract Agreement. These Particular Conditions \\namend the General Conditions included in the Form of Contract First Edition, 1999 published by t he \\nFederation Internationale des Ingenieurs -Conseils. In these Particular Conditions, words and \\nexpressions shall have the same meanings as are respectively assigned to them in the General \\nConditions. Sub -Clause numbers set out below refer to the correspon ding Sub -Clauses in the General \\nConditions.  \\nThe following Particular Conditions supplement, amend and, in the case of any conflict, take \\nprecedence over the General Conditions.  \\nCLAUSE 1: GENERAL PROVISIONS  \\n \\n1.1 - Definitions  \\nSub-Clause 1.1.2.9  DAB  \\n \\nDelete  the definition of “DAB” in its entirety, and any further reference \\nto DAB in the remainder of the Contract shall be deleted.  \\n \\nSub-Clause 1.1.4.6  Foreign Currency  \\n     \\n    Delete this Sub -Clause.  \\nSub-Clause 1.1.6.1  Contractor’s Documents  \\n \\nInsert after the  word “nature” in line 3, the words “(including documents \\ncreated on disks, diskettes, tapes or other electronically readable \\nmedia)”.  \\n \\nSub-Clause 1.1.6.3  Employer’s Equipment  \\n \\n    Delete this Sub -Clause.  \\nSub-Clause 1.3  Communications  \\n \\nDelete section (a) of Sub Clause 1.3 and replace with the below : \\n \\n(a)        In writing and delivered by hand (against receipt), sent by mail   \\n       or courier; and  \\n \\nNotwithstanding the foregoing, in the event of an emergency which, in \\nEmployer’s reasonable opinion, endangers life or property in \\nconnection with the performance of the Works, Contractor shall upon \\nEmployer’s oral instruction commence such emergency works as \\ndirected by Employer and Employer shall issue written instructions \\nconfirming the same as soon as practicab le. \\n \\nInsert after the word “notices” in line 2, the words “ instructions, \\npermissions”.  \\nInsert new sub -paragraphs after (b):  \\n \\n(c)  Electronic communications shall use:  \\n                              (i)  Microsoft Windows compatible software for the general \\npreparation and transmission of documents.  PURE HEALTH OFFICE AT 41st FLOOR , VISION TOWER, DUBAI - UAE  \\nINTERIOR F ITOUT  AND MEP WORKS PACKAGE  \\n \\n  \\n \\nVOL. I – SECTION 5: C ONDIT IONS OF CONTRACT (PART II) – PARTICULAR CONDITI ONS   \\nREV: 00   S5/2                               (ii)  AutoCAD [dwg Files] compatible software for the \\npreparation and transmission of drawings.  \\n                              (iii)  Primavera [P3 Files] compatible software for the \\npreparation and transmission of the work programme.  \\n \\nSub-Clause 1.4  Law and Language  \\n   Delete Sub -Clause 1.4 and re place  with: \\n \\nThe Contract shall be governed by the laws of the Emirate of Dubai  \\nand the federal laws of the United Arab Emirates.  \\n    \\nIf there are versions of any part of the Contract which are written in     \\nmore than one language, th e ver sion in the English language shall \\nprevail.  \\n    \\n   The language for communications shall be English.  \\n \\nNotwithstanding the foregoing, the Con tractor shall (i) adhere to any \\nLaws and regulations of the Emirate or the Employer requiring the \\nsubmission of  the certain documents in Arabic and (ii) arrange, at the \\nContractor’s own expense, for such translations from English to Arabic \\nand Arabic to English as may be required to facilitate the performance \\nof the Works.  \\nSub-Clause 1.5  Priority of Documents  \\n \\n   Delet e this Sub -Clause.  \\n \\nThe documents forming the Contract are to be taken as mutually \\nexplanatory, complementary and additive, not alternative of one \\nanother, the priority of documents shall be in accordance with the \\nsequence as listed in the Appendix pr ovide d however; a requirement in \\nany one document shall be deemed to be a requirement under all \\ndocuments forming the Contract and is deemed included in the \\nContract Price, and if the Contract provides within the documents \\ndiffering standards of quality, p erformance, product, material, \\nworkmanship of finish, then; those of the highest standards shall apply \\nunless the Employer agrees otherwise.  \\n \\nIn the event that the Contractor become aware of any ambiguity, \\nconflict or inconsistency between or within the do cumen ts forming the \\nContract (including between any codes conventions, standards, or \\nguidelines referenced in the Contract), the Contractor  shall notify the \\nEmployer promptly following such discovery. Upon which the Employer \\nwithin reasonable time, shall i ssue to the Contractor and instruction \\nthat shall (at the Employer’s sole direction) resolve the ambiguity, \\nconflict or inconsistency.  \\n \\nThe Contractor shall comply with Employer’s instructions issued under \\nthe immediately preceding paragraph without, by re ason of such \\ncompliance, becoming entitled to any extension of time, any Variation, \\nany additional payment, or any relief whatsoever.  PURE HEALTH OFFICE AT 41st FLOOR , VISION TOWER, DUBAI - UAE  \\nINTERIOR F ITOUT  AND MEP WORKS PACKAGE  \\n \\n  \\n \\nVOL. I – SECTION 5: C ONDIT IONS OF CONTRACT (PART II) – PARTICULAR CONDITI ONS   \\nREV: 00   S5/3 Sub-Clause 1. 7            Assignment  \\n \\nDelete this Sub -Clause and replace with:  \\n \\nExcept as provided under Sub -clause 4.4 [Subc ontractors], Contractor \\nshall not assign or transfer all or any of its rights or oblig ations under \\nthis Contract, nor  shall any share or interest therein in any manner or \\ndegree be transferred or assigned by Contractor, directly or indirectly, \\nwithout  the prior consent in writing of Employer.  Employer shall not be \\nliable to Contractor in any manner for refusing approval for any such \\nproposed assignment or transfer. Any attempt by the Contractor to \\nassign or transfer its rights, obligations or interest under  the Contract \\nwithout compliance with this Sub -Clause 1.7 [ Assignment ] shall be void \\nand without effect. Notwithstanding assignment or transfer to which \\nEmployer has given consent, Contractor shall be and remain solely \\nresponsible for the quality and prope r execution of Works, shall remain \\nresponsible for the performance of assignee or transferee and shall \\nremain liable for any breach of this Contract.  \\nEmployer shall have the right to freely assign its rights and/or \\nobligations under this Contract. In such cases Employer shall inform \\nContractor at the time of such assignment. Without prejudice to the \\ngenerality of the foregoing, the Employer may assign its rights and \\nobligations under the Contract to any Lender by notice in writing the \\nContractor at any  time without the requirement for the Contractor’s \\nconsent and the Contractor shall enter into such further documentation \\nas may be required to effect such assignment provided that no such \\nassignment shall alter any other terms of the Contract.  \\nEmployer sh all a lso have the right, at any time on or after the \\nCommencement Date, to novate the Contractor contracts or purchase \\norders entered into by Employer with third parties for provision of \\nservices and materials in connection with the Works (if any). \\nContrac tor s hall enter into such further documentation per the terms \\nagreed by the  Employer as may be required to effect such novation.  \\nSub-Clause 1.8  Care and Supply of Documents  \\n \\nIn the third paragraph, replace the words “a copy” by “two copies in \\ngood conditi on pl us an electronic copy”.  \\nSub-Clause 1.9  Delayed Drawings or Instructions  \\n \\nIn the first line, add the words “a minimum of 7 days” before the word \\n“notice”.  \\nSub-Clause 1.10  Employer’s Use of Contractor’s Documents  \\n \\nIn (c), delete the words “on the site  and other places as envisaged by \\nthe Contract”.  \\n PURE HEALTH OFFICE AT 41st FLOOR , VISION TOWER, DUBAI - UAE  \\nINTERIOR F ITOUT  AND MEP WORKS PACKAGE  \\n \\n  \\n \\nVOL. I – SECTION 5: C ONDIT IONS OF CONTRACT (PART II) – PARTICULAR CONDITI ONS   \\nREV: 00   S5/4 Sub-Clause 1.12  Confidential Details  \\n \\nInsert new paragraph at the end of this Sub -Clause:  \\n \\nBoth parties shall treat the details of the Contract as private and \\nconfidential, except to the extent necessary to ca rry out the obligations \\nunder it or to comply with the applicable Laws. The Contractor shall not \\npublish, permit to be published, or disclose any details of the Works in \\nany trade or technical paper without the previous agreement of the \\nEmployer.  \\nSub-Claus e 1.13  Compliance with Laws  \\n \\nInsert an additional sub -paragraph (c):  \\n \\n(c) A copy of the Contractor’s \" Membership Registration \\nCertificate \" issued by United Arab Emirates Chamber of \\nCommerce and Industry , and \" Trade License \" issued by \\nTrading License Manag ement in Dubai Economic \\nDepartment  shall be submitted to the Employer prior to the first \\nsubmission in accordance with Sub -Clause 14.3 [ Application for \\nInterim Payment Certificates ]. \\n \\nCLAUSE 2: THE EMPLOYE R \\n \\n Sub-Clause 2.1 Right of Access to the Site \\n \\nInsert new paragraph at the end of this Sub -Clause:  \\n \\nUse of the Site shall confer on the Contractor a right to only such use \\nand control of the Site as is necessary to enable the Contractor to \\ncarry out the w orks, and shall be subject to a ny restrictions or other \\nmatters set out in the Contract or as may be notified by the Employer \\nfrom time to time. The Contractor shall not have exclusive use of the \\nSite and may be required to share use of the Site with other s. \\n \\nThe Contractor shall ensure  that all operations related to the Works \\nincluding loading and off loading are restricted within of confines of the \\nproject and the contractor shall execute such works and carry his \\noperations without impacting the adjacent facility.  \\nSub-Clause 2.2  Permi ts, Licenses or Approvals  \\n \\nDelete Sub -Clause 2.2 and replace with:  \\n \\nThe Employer shall (where he is in a position to do so) provide \\nreasonable assistance to the Contractor at the request of the \\nContractor for applications for  any permits, licenses or appro vals \\nrequired either to commence or complete the works or which the \\nContractor is required to obtain under Sub clause 1.13 [ Compliance \\nwith Laws ], This assistance shall be limited to provision by Employer of \\nnecessary letters  of assistance to the relevant Government Authority \\nprovided that the Contractor shall be liable for all costs incurred by the \\nEmployer in complying with the Contractor’s requests pursuant to this \\nSub-Clause 2.2 [ Permits, Licenses or Approvals ]. \\n \\n \\n PURE HEALTH OFFICE AT 41st FLOOR , VISION TOWER, DUBAI - UAE  \\nINTERIOR F ITOUT  AND MEP WORKS PACKAGE  \\n \\n  \\n \\nVOL. I – SECTION 5: C ONDIT IONS OF CONTRACT (PART II) – PARTICULAR CONDITI ONS   \\nREV: 00   S5/5 Notwith standing the above, the Contrac tor shall have sole \\nresponsibility to acquire all the permits, NOCs, licenses, approvals, or \\nclearance certificates on the times necessary to achieve compliance \\nwith the project commencement and completion dates and the \\nProgr amme including secure the proje ct with permanent utilities’ \\nconnections. The project shall not be considered as substantially \\ncomplete unless the building completion certificate is obtained from the \\nauthorities and all permanent utilities are connected and  commissioned \\nto the Employer’s  satisfaction.  \\n \\nThe Contractor shall be fully responsible for obtaining, on his own \\nexpense, at the appropriate time, all temporary works permits and \\ntemporary access permits necessary to commence and execute the \\nWorks in acc ordance with the Contract and t he Laws of Dubai . The \\nContractor is responsible for obtaining and producing the necessary \\ndesign and technical documentation required above and shall fully \\ncoordinate all relevant activities with the Employer and all  relevant \\nauthorities to ensure stru ctured and timely applications.  \\n \\nThe Contractor shall be responsible for liaising with all authorities and \\nto manage their inspections, if any, necessary for receiving the building \\npermit and completion certificate.  \\n \\nSub-Clause 2.4  Employer’s Financial Ar rangeme nts \\n \\nDelete this Sub -Clause.  \\n \\nSub-Clause 2.5  Employer’s Claims  \\n \\nDelete Sub -Clause 2.5 and replace with:  \\n \\nIf the Employer considers himself to b e entitled to any payment under  \\nany Clause of these Conditions or othe rwise in connection with the   \\nContr act, th e Employer shall so advise the Contractor givin g particulars \\nthereof. Employer shall have the right to deduct any such  amounts \\nfrom payments due to the Contractor.  \\n \\nWithout prejudice to the generality of the foreg oing, Employer may, in  \\naddition to any oth er amounts to be retained hereunder, retain from \\nany sums otherwise owing to Contractor amounts sufficient to cover \\nthe full costs of any of the following:  \\n \\na. Contractor failure to comply with any material provision  if this \\nContract or Contractor’s ac ts or o missions in the performance of \\nany part of this Contract, including, but not limited to, violation of \\nany applicable Law, including those regarding safety, hazardous \\nwastes of materials or environmental requiremen ts; \\n \\nb. Correction of defective or non -conform ing work by redesign, repair, \\nrework, replacement or other appropriate means when Contractor \\nstates, or by its actions indicates, that it is unable or unwilling to \\nproceed with corrective action in a reasonable ti me; and/or  \\n \\nc. Employer agrees to or is  requir ed to take action or perform work or \\nrework for Contractor, such as cleanup, off -loading or completion \\nof incomplete work.  \\n \\n \\n PURE HEALTH OFFICE AT 41st FLOOR , VISION TOWER, DUBAI - UAE  \\nINTERIOR F ITOUT  AND MEP WORKS PACKAGE  \\n \\n  \\n \\nVOL. I – SECTION 5: C ONDIT IONS OF CONTRACT (PART II) – PARTICULAR CONDITI ONS   \\nREV: 00   S5/6 Employer may also backcharge Contractor for work done or cost \\nincurred by Employer to r emedy these or any other Contractor \\ndefault s, errors, omissions or failures to perform or observe any part of \\nthis Contract.  \\n \\nThe backcharge notice may request Contractor’s concurrence for \\nEmployer to proceed with the required action or work. Contractor’s \\nfailure to concur shall not impair E mployer ’s right to proceed with the \\naction or work under this or any other provision of this contract.  \\n \\nEmployer may separately invoice Contractor for backcharges, or may \\nprovide written notice to Contractor of its inten tion to withhold such \\nsums from paym ent oth erwise due to the Contractor and may \\nthereafter withhold such sums in accordance with the notice. \\nEmployer’s right to backcharge is in addition to any and all other rights \\nand remedies provided in this Contract or  at Law.  \\n \\nThe performance of backcha rge wor k by Employer shall not relieve \\nContractor of any of its responsibilities under this Contract including \\nbut not limited to express or implied warranties, specifies standards for \\nquality, contractual liabilities an d indemnifications, and meeting proj ect \\ncompletion date.  \\n \\nCLAUSE 3: THE ENGINEER  \\n \\nSub-Clause 3.1  Engineer’s Duties and Authority  \\n \\nAdd the following paragraphs at the end of this Sub -Clause:  \\n \\nThe Engineer will not be responsible for the Contractor’s failur e to \\nperform any of its duties, obli gations  or responsibilities under the \\nContract. The Engineer will not have control over or charge of and will \\nnot be responsible for acts or omissions of the Contractor, the \\nContractor’s Personnel or any other persons or  entities performing \\nportions of the  Works.  \\n \\nThe approval of the Employer is required before the Engineer may:  \\n                            (i) Award the Contractor any extension of time in accordance with \\nSub-Clause 8.4 [ Extension of Time for Completion ]. \\n                            (ii) Make any V ariation to the Works in accordance with Clause 13 \\n[Variations and Adjustments ] where such Variation would \\naffect the Contract Price.  \\n                            (iii) Issue determinations in accordance with Sub -clause 3.5  \\n[Determination ]. \\n                            (iv) Issue the Performance Certificate for the Works in accordance \\nwith Sub -Clause 11.9 [ Performance Certificate ]. \\nSub-Clause 3.3  Instruction s of the Engineer  \\n \\nDelete item (a) , (b) and (c) of Sub -Clause 3.3 and replace with:  \\n    \\nAll ins tructio ns from the Engineer to the Contactor shall be in writing.  \\nVerbal instruction s have no basis under the Contract except for \\nmatters relating to safety which will be confirmed by the Engineer \\nwithin seven (7) days o f the verbal instruction in writing.  \\n \\nExcep t as provided above, all actions taken by Contractor on the basis \\nof verbal instructions are entirely at Contractor’s risk.  PURE HEALTH OFFICE AT 41st FLOOR , VISION TOWER, DUBAI - UAE  \\nINTERIOR F ITOUT  AND MEP WORKS PACKAGE  \\n \\n  \\n \\nVOL. I – SECTION 5: C ONDIT IONS OF CONTRACT (PART II) – PARTICULAR CONDITI ONS   \\nREV: 00   S5/7 Sub-Clause 3.4  Replacement of the Engineer  \\n \\nDelete Sub -Clause 3.4 and replace with:  \\n \\nIf the Employer intends to replace a ny of t he Engineer, the Employer \\nshall serve the Contractor seven (7) days’ notice notifying him of the \\nintended replacement; the Contractor has no right to object on such \\nreplacement nor shall such Replacement be the ba se for Contractor’s \\nclaims under cla use 20. 1 [Contractor’s Claims ]. \\nSub-Clause 3.6  Management Meetings  \\n \\nInsert new Sub -Clause:  \\n \\nThe Engineer or the Contractor\\'s Representative may require the other \\nto attend management meetings in order to review issues i n respect of \\nthe Works and/or the ar rangeme nts for future work. The Engineer shall \\nrecord the discussions of such meetings and supply copies of this \\nrecord to those attending the meeting and to the Employer.  \\n \\nCLAUSE 4: THE CONTRACTOR  \\nSub-Clause 4.1  Contra ctor’s General Obligations  \\n \\nAdd the followi ng paragraph at the end of Sub -Clause 4.1 : \\nThe Contractor shall review and verify the Contract documents and \\ngive prompt notice to the Engineer, with a copy to the Employer, within \\nthe Tender period, of any error,  omission, fault or other defect in the \\ndesign, specifications or the Tender documents for the Works, which \\nhe discovers when reviewing or verifying the documents or which he \\ncould have discovered as an experienced Contractor. Failure to do so \\nwill disallo w the Contractor from submitting any  claim for time \\nextension in respect to the errors or discrepancies found in the \\nContract Documents.  \\nThe contractor shall be responsible for coordination with other \\ncontractors employed by the Employer at any sta ge of the execution of \\nthe works. Pr ior to and during the execution of the works . \\nNotwithstanding any provision to the contrary in the Contract, the \\nContractor shall be responsible for executing any part or aspect of the \\nWorks not expressly detailed in the  documents furnished to the \\nContract or or n ot specified in the Contract, but which are necessary for \\nthe proper execution and completion of the Works in accordance with \\nthe provisions of the Contract, local and internationally accepted \\neconomic and demogra phic construction practices and to e nsure t he \\nWorks are fit for the purpose for which they are intended, such works \\nshall be performed by the Contractor and are deemed to be included \\nin, and to form part of, the Works to be executed under the Contract.  \\n \\n \\n PURE HEALTH OFFICE AT 41st FLOOR , VISION TOWER, DUBAI - UAE  \\nINTERIOR F ITOUT  AND MEP WORKS PACKAGE  \\n \\n  \\n \\nVOL. I – SECTION 5: C ONDIT IONS OF CONTRACT (PART II) – PARTICULAR CONDITI ONS   \\nREV: 00   S5/8 Sub-Clause 4.2  Performance Security  \\nDelete  the second sentence of the second paragraph and replace by \\nthe following:  \\n \\nThe Performance Security shall be  in the form of a bank guarantee, it \\nshall be issued by a bank located in Dubai . The Performanc e Security \\nshall be  irrevocable, uncondit ional and a utomatically renewable and  in \\nthe form annexed to the Particular Conditions or as may be directed by \\nthe Employer.  \\nSub-Clause 4.3  Contractor’s Representative  \\n \\nInsert an additional paragraph at the end of  this Sub -Clause:  \\n \\nThe Contractor shall w ithin 14 da ys of the acceptance of the Tender by \\nthe Employer, notify the Employer and the E ngineer  of the registered \\naddress of his office in Dubai to which he requires notices to be \\nserved. The Co ntracto r’s Representative shall be based in  United \\nArab Emirates.  \\nSub-Clause 4.4  Subcontractors  \\n \\nAdd to the end of the first paragraph the words “and shall only be \\npermitted to subcontract parts of the Works where the scope of the \\nsubcontract and the iden tity of  the Subcontractor have been defined in \\nthe Ten der and subsequ ently approved by the Engineer”.  \\nSub-Clause 4.6  Co-operation  \\n \\nInsert after the words “public authorities” in sub -paragraph (c) of the \\nfirst paragraph the words “or public utility service  provid ers,” \\nInsert at the end of the first paragraph the words “Wher e there is an \\ninterface between the Works and work to be done by other contractors, \\nthe Contractor shall make the necessary surveys of the work done by \\nthe other contractors and shall adj ust the  design of the Works as \\nrequired to properly co mplete the inte rface”.  \\nDelete the second paragraph and replace by the following:  \\nAny such instruction, save insofar as it concerns any safety issue for \\nwhich the Contractor is responsible, shall constit ute a V ariation if and \\nto the extent that it causes th e Contractor to  incur Unforeseeable Cost \\n(In this regard it is agreed that the Contractor could reasonably foresee \\nthe activities of the Employer’s personnel, other contractors and \\npersonnel of public a uthorit ies or public utility service providers, \\nreferr ed to in the Contract Documents ). Services for these personnel \\nand other contractors may include the use of Contractor’s Equipment, \\nTemporary Works or access arrangements which are the responsibility \\nof the Co ntractor.   \\n \\nIn execution of the Works the Conta ctor shall:  \\n(a) Permit and facilitate the execution of Related Works on Site by \\nother parties . \\n \\n(b) Fully and actively cooperate with all parties undertaking Related \\nWork and jointly with them prepare coordinat ion dra wings taking \\naccount of such Related Work . \\n PURE HEALTH OFFICE AT 41st FLOOR , VISION TOWER, DUBAI - UAE  \\nINTERIOR F ITOUT  AND MEP WORKS PACKAGE  \\n \\n  \\n \\nVOL. I – SECTION 5: C ONDIT IONS OF CONTRACT (PART II) – PARTICULAR CONDITI ONS   \\nREV: 00   S5/9 (c) Where necessary or  where directed by the Employer arrange \\nand/or attend meetings with parties undertaking Related Work and \\nuse his best endeavours to ensure that no interruption or \\ninterference is caused b y or to  any such parties . \\n \\n(d) Satisfy itself in adequate time before com mencing any part of the \\nWorks as to the position, dimensions and suitability of any previous \\nRelated Work forming part of the Project which might in any way \\naffect the Works and advise th e Emplo yer in writing if such \\nprevious Related Work is  out of positio n, wrongly dimensioned or \\nin any other way unsuitable, so as to minimize any resultant \\ninterruption or interference.  \\n \\nIn the event that the Contractor and any other p arties undertaking \\nRelated W ork cannot, by all reasonable means, reach agre ement \\non the ac tivities to be coordinated and access for the construction \\nof the Works and/or the Related Works, the Engineer shall be \\nentitled to instruct the Contractor (and/or any other parties \\nunder taking Related Work) as to the interface between the W orks \\nand the Re lated Work. Such instructions and activities shall not be \\nconstrued as a Variation or form a basis for a claim for additional \\ntime or money.  \\n \\nIn the event that the Engineer instructs the Contrac tor to undertake \\nadditional work, then such add itional work ma y be treated as a \\nVariation in accordance with Clause 13 [ Variations ]. \\n \\nSub-Clause 4.9  Quality Assurance  \\n \\nDelete the con tent of this Sub -Clause and replace by the foll owing:  \\n \\nThe Con tractor shall institute a quality system to demonstrate \\ncompliance with the requirements of the Contract. The organization \\nand management of quality assurance/quality control procedures a nd \\nthe responsibility for their implementation shall b e set out in a written \\nquality programme (including full quality plans and manuals) which the \\nContractor shall submit to the Engineer within 28 days from the date of \\nthe Letter of Acceptance . The programme shal l be such as to \\ndemonstrate compliance with all  the requiremen ts of the Contract and \\nshall cover all aspects and phases of the Works from design through \\nprocurement and construction to testing and remedying o f defects. The \\nContractor shall ensure that all his designers, employees, consultants, \\nsubcontr actors and supp liers and all others providing work, services or \\ngoods for the Works are familiar with the quality programme and \\ncomply with it. Compliance with t he quality system and the quality \\nassurance/qual ity control programmes shall not relieve the Co ntractor \\nfrom a ny of his duties, obligations or responsibilities under the \\nContract. The Employer reserves the right to audit any aspect of the \\nsystem.  \\n \\n \\n \\n \\n \\n \\n \\n \\n PURE HEALTH OFFICE AT 41st FLOOR , VISION TOWER, DUBAI - UAE  \\nINTERIOR F ITOUT  AND MEP WORKS PACKAGE  \\n \\n  \\n \\nVOL. I – SECTION 5: C ONDIT IONS OF CONTRACT (PART II) – PARTICULAR CONDITI ONS   \\nREV: 00   S5/10 Sub-Clause 4.14  Avoidance of  Interference  \\n \\nAdd before the final paragraph th e words “The Contractor shall \\ncooperate with th e relevant auth orities including without limitation, the \\nDubai Municipality, Dubai  Road Transportation Author ity and \\nDepartment of Civil Aviation  to accompli sh the foregoing”.  \\nSub-Clause 4.18  Protection of the Envir onment  \\n \\nAdd the followin g paragraph at the end of this Sub -Clause:  \\nWithout prejudice to the generality of the foregoing, the Contractor \\nshall ensure that in the performance of the Works, he complie s fully \\nwith any specific requirements relating to protecti on of the environment \\nimposed by the Employer or by any controlling authority, and shall \\nindemnify the Employer against any and all claims for enviro nmental \\ndamage arising out of the performance of  the Works.”  \\nSub-Clause 4.21  Progress Reports  \\n \\nInsert two new sub -paragraphs after  sub-paragraph (h):  \\n \\n             (i) cost reporting in a format which shall be submitted by the \\nContractor for the Engineer’ s review, including but not limited \\nto projected  cash flow, status of Variations and forecast Final \\nAccount . \\n             (j) a dia ry recording weather and sea conditions (if applicable) \\nand major events on site.     \\n \\nSub-Clause 4.23  Contractor’s Operatio ns on Site  \\n \\nAdd to the second paragraph the word s “Should at any time after due \\nand reasonable written warn ing from the Engineer, t he Site not be kept \\nclear, the Employer may arrange for clearing of the Site to be carried \\nout by others and deduct the cost thereof from monies due or \\nbecoming due to the C ontractor or recover the same as a debt due \\nfrom the Contra ctor”.  \\nIn the third para graph, replace the words “Upon the issue of a Taking -\\nOver Certificate” by the words “Prior to the issue of a Taking -Over \\nCertificate”.  \\nSub-Clause 4.24  Fossils  \\n \\nInsert a new  paragraph after the first paragraph:  \\n \\nIf at any time durin g the execution of the W orks or in the course of \\nremedying any defects therein the Contractor shall find on the Site any \\nnatural physical thing (whet her animal, vegetable or mineral) which is \\nprote cted by the Laws of the Country the Contractor shall take a ll \\npractical steps to av oid damage or disturbance to such thing and shall \\ncomply with any requirements of the Laws relating to it.  \\n \\n \\n \\n \\n \\n \\n PURE HEALTH OFFICE AT 41st FLOOR , VISION TOWER, DUBAI - UAE  \\nINTERIOR F ITOUT  AND MEP WORKS PACKAGE  \\n \\n  \\n \\nVOL. I – SECTION 5: C ONDIT IONS OF CONTRACT (PART II) – PARTICULAR CONDITI ONS   \\nREV: 00   S5/11 Sub-Clause 4.25  Public Authorities  \\n \\nInsert new Sub -Clause 4.25 as follows:  \\n \\nThe Contractor shall establish all the re quirements of the Public  \\nAuthorities and ensure these requirements are incorporated into the \\nrequired documentation. The Contractor shall produce and  obtain all \\nthe necessary documentation making s ure that correct and \\ncomprehensive application are made to the Public Authorities. This \\ndocumentation shall reflect the requirements of all Public Authorities  \\nwhich shall be clearly determined by the Contract or early and  sufficient \\ntime with regard to the statutory periods for their examination by public \\nauthoriti es. The documentation sh all be presented in the correct \\nmanner and issued in accordance with the permitting programme \\nreferred to above, or otherwise  determined by the Engineer.  \\n \\nThe Contractor sha ll arrange, manage and coordinate all formal and \\ninformal p ublic inspections requir ed to ensure the structured and timely \\nissuance of the Completion Permit in accordance with the Contract.  \\n \\n \\nCLAUSE 6: STAFF AND LABOUR  \\nSub-Clause 6.5  Working Hours  \\n \\nDelete Sub -Clause 6.5 and replace with : \\n \\nWorking hours shall be in accordance with the  relevant Laws \\napplicable to the Works unless the work is u navoidable or necessary \\nfor the protection of life or property or for the safety of the Works, in \\nwhich case the Contractor shall immediately advise the Engineer. In \\naddition, the Contractor shall comply with the directives of public \\nauthorities with juris diction over the Site wh o may at times request that \\nworking hour s be reduced or performance of Works be suspended due \\nto religious holidays  or summe r working . As a result of these directives \\nneither the Co ntract Price shall be ad justed nor shall the Time for \\nCompletion for the Works or any Section be extended.  \\n \\nAny work proposed to be carried out durin g the normal days beyond 8 \\nhours and Sunday s and  public holidays shall be subject to consent of \\nthe Enginee r. The consent for worki ng beyond 8 hours may be given \\nby the Engineer upon the Contractor undertaking to bear the cost of \\novertime supervision , whic h shall be obtained in advance of the work \\nsched uled for overtime working.  \\n \\n PURE HEALTH OFFICE AT 41st FLOOR , VISION TOWER, DUBAI - UAE  \\nINTERIOR F ITOUT  AND MEP WORKS PACKAGE  \\n \\n  \\n \\nVOL. I – SECTION 5: C ONDIT IONS OF CONTRACT (PART II) – PARTICULAR CONDITI ONS   \\nREV: 00   S5/12 Sub-Clause 6.7  Health & Safe ty \\n \\nAdd to the end of th e first paragraph the words “In the event of any \\noutbreak of illness of an epidemic nature, the Contractor shall comply  \\nwith and carry out such regulations, orders and requi rements as may \\nbe made by the Government, or the local medi cal or sanitary \\nauthorit ies, for the purpose of dealing with and overcoming same”.  \\nSub-Clause 6.10  Records of Contractor’s Personnel and Equipm ent \\n \\nReplace the second sentence by the words “Details  shall be submitted \\neach week, in a form approved by the En gineer, until the Contra ctor \\nhas completed all work which is known to be outstanding at the \\ncompletion date stated in the Taking -Over Certifica te for  the Works”.  \\n \\nSub-Clause 6.11  Disorderly Conduc t \\n \\nAdd the following paragraph at the end of this Sub -Claus e: \\n \\nThe Contractor shall  forthwith remove from the Site any of the \\nContractor’s Personnel whose conduct, in the reasonable opinion of \\nthe Engin eer, i s unacceptable.  \\nSub-Clause 6.12  Supply of Water   \\n \\nInsert new Sub -Clause:  \\n \\nThe Contractor shall, so far as is reasonably practicabl e, having regard \\nto local conditions, provide on Site an adequate supply of drinking and \\nother water for use of his sta ff and  labour . \\nSub-Clause 6.13  Alcoholic Liquor or Dr ugs \\n \\nInsert new Sub -Clause:  \\n \\nThe Contractor shall not, othe rwise than in accordance  with the Law, \\nimport, sell, give, barter or otherwise dispose of any alcoholic liquor or \\ndrugs, or permit or suffer an y such  importation, sale, gift, barter or \\ndisposal by his subcontractors, agents, staff or labour . \\n \\nSub-Clause 6. 14  Festivals and Religi ous Customs  \\n \\nInsert new Sub -Clause:  \\n \\nThe Contractor shall in all dealings with his staff and labour  have due \\nregard to all re cognized festivals, days of rest and religious o r other \\ncustoms.  PURE HEALTH OFFICE AT 41st FLOOR , VISION TOWER, DUBAI - UAE  \\nINTERIOR F ITOUT  AND MEP WORKS PACKAGE  \\n \\n  \\n \\nVOL. I – SECTION 5: C ONDIT IONS OF CONTRACT (PART II) – PARTICULAR CONDITI ONS   \\nREV: 00   S5/13 CLAUSE 7: PLANT, MATERIALS AND WORKMANSHI P \\nSub-Clause 7.1  Manner  of Execution  \\n \\nInsert at the beginning of the first sentence the words “Without limiting \\nhis responsibilities under Sub -Claus e 4.1 [ Contractor’s General \\nObligations ]”. \\n \\nCLAU SE 8: COMMENCEMENT, DELAYS AND SUSPENSION  \\nSub-Clause 8.1  Commencement of Works  \\nDelete this Sub -Clause  and replace with:  \\n \\nThe Commencement Date shall be as per the dat e of the Le tter of \\nAcceptance (10th March 2022) or dat e of the Government approvals , \\nBuilding Permit and Fitout Permit, whichever is later.  \\n \\nSub-Clause 8.2   Time for Completion  \\n \\nDelete Sub -Claus e 8.2 and replace with : \\n \\nThe Contractor sh all complete the whole o f the Works, and each \\nSection (if any), within the  Time for Completio n for the Works or \\nSection (as the case may be) including:  \\n \\n(a)        Achieving the passing of the Tests on  Completion, and  \\n \\n(b)        Completing all work which is state d in the Contract as bei ng    \\n       required for the Works or Section to be considered to be      \\n       completed for the purposes of taking over under Sub -Clause  \\n       10.1 [ Taking Over of the Works and Section s]. \\n \\nFor the avoidance of any doubt, the c onditions precedent for the \\nContractor to fulfil the requirements for achi eving completion of  the \\nWorks or Section for the purposes of taking over under Sub -Clause \\n10.1 [ Taking Over of the Works an d Sections ] shall  include apart from \\n(a) and (b) above the requirements  following:  \\n \\n(i) Submittal to and approval by the Engineer of all record \\ndocuments as  speci fied required by the Employer including as -\\nbuilt drawings, operation and maintenance manuals, as -built \\nspecificatio ns, list of vendors and warranties.  \\n \\n(ii) The C ontractor has obtained a ll approvals and clearances from \\nthe authorities n ecessary for projec t comp letion and the site is \\nconnected to permanent utilities.  \\n \\n(iii) The Contractor has completed all snags a nd defects notifi ed \\nby the Engineer deem at his sole discre tion necessary for \\nproje ct completion.  \\n \\n(iv) The Site has been vacated and clea ned-up in accordanc e with  \\nthe requirements of this Contract.  PURE HEALTH OFFICE AT 41st FLOOR , VISION TOWER, DUBAI - UAE  \\nINTERIOR F ITOUT  AND MEP WORKS PACKAGE  \\n \\n  \\n \\nVOL. I – SECTION 5: C ONDIT IONS OF CONTRACT (PART II) – PARTICULAR CONDITI ONS   \\nREV: 00   S5/14 Sub-Clause 8.3  Programme  \\n \\nReplace the first sentence by the words “The Contra ctor shall submit a \\ndetailed time programm e to the Engineer within  14 days from the date \\nof the Letter of Acceptanc e; such programme shall be in Primavera, \\nand shall be in substantial conformity with the milestones included in  \\ninstructions to Tendere rs”. \\nInsert after the word “whenever\" in the second sentenc e the words “the \\nEmploye r grants an extension of tim e unde r Sub -Clause 8.4 [ Extension \\nof Time for Completion ] and whenever”.  \\nInsert the following paragraph at the end of thi s Sub -Clause:  \\nNo program me submitted by the Contractor shall be treated as an \\nappli cation to the Engineer f or any in formation, instruct ion, o r suchlike \\nwhatsoever.  \\n \\nAt the end of Sub -Clause 8.3, add:  \\n \\n(e) Programme must be of sufficient details to the sati sfaction of \\nthe Engineer ; \\n(f) Programme must be a Critical Path Method (CPM)  \\n netwo rk, developed  using the latest ve rsion of Primavera  \\nProjec t Planner P6, and loa ded with all required resources;  \\n(g) Programme must have a proper coding system;  \\n(h) The Contr actor must submit a de tailed and reasonable cash \\nflow; \\n(i) The Contractor must subm it bi-weekly updates sho wing \\n Progress of Works and percen tages of completion.  \\nSub-Clause 8.4  Extension of Time for Completion  \\n \\nDelete sub -paragraph (e) and replace by the following:  \\n \\n(e) any dela y, impediment or prevention caused by or attributable \\nto the Employer, the Employer ’s Person nel, or the Employe r’s \\nother contractors on the Site provided that the Contractor shall \\nhave no entitlement to an extension of time for any delay or \\ndisruption to t he Works caused by any third party save insofar \\nas Sub -Clause 8.5 [ Delays Caused by  Authorit ies] is \\napplicable to any  such third party.  \\nInsert the following paragraph at the end of this Sub -Clause:  \\n \\nNotwithstanding the foregoing, th e entitlement of the Con tractor to an \\nextension of time shall be subject to the fol lowing:  \\n \\n(i) the Contrac tor has m ade reasonable and proper  efforts to \\nmitigate such delay;  \\n(ii) the Contractor shall not be entitled to a separate extension of \\ntime for each  one of several causes o f delay running \\nconcurrently;  \\n(iii) any such delay which is  concurrent with another  delay fo r \\nwhich the Contrac tor is  responsible shall not be taken into \\naccount; and  \\n(iv) the Contractor has complied with Sub -Clause 20.1         \\n [Contractor’s Claims ]. \\n PURE HEALTH OFFICE AT 41st FLOOR , VISION TOWER, DUBAI - UAE  \\nINTERIOR F ITOUT  AND MEP WORKS PACKAGE  \\n \\n  \\n \\nVOL. I – SECTION 5: C ONDIT IONS OF CONTRACT (PART II) – PARTICULAR CONDITI ONS   \\nREV: 00   S5/15 If the Contractor considers himself to be entitled to an exte nsion of the \\nTime for Co mpletion,  the Contractor sha ll give notice to the Engineer in \\naccordance with Sub -Clause 20.1 [ Contractor’s Claims ] together with \\nappropriate evidenc e and detailed proposals  consistent with the \\nContract for overcoming such events and minimizing any adverse  \\neffects on the Time for Com pletio n. Contractor shall not be entitled to \\nan extension in the Time for Completion unless the critical part in the \\nProg ramme approved pursuant to Sub -Clause 8.3 is affected. At such \\nevent the Contractor  must submit to the Engi neer a co mplete Time \\nImpact Analys is based on the As Built records and to the satisfaction of \\nthe Engineer, after receiving this notice, the Engineer  shall proceed in \\naccord ance with Sub -Clause 3.5 [ Determinations ] to agree or \\ndeter mine these matters.  \\n  \\n Sub-Clause  8.7  Delay Damages   \\n \\nDelete Sub -Clause 8.7 and replace with:  \\n \\nIf the Contractor fails to comply with Sub -Clause 8.2 [ Time for \\nCompletion ], the Contractor shall sub ject to Sub -Clause 2.5 \\n[Employer’s Claims ], pay to Employer  delay damages for this default \\nand the Contractor s hall indemnify the Employer  against all supervision \\nfees and other charges, due to Engineer / Consultant a nd the \\nEmployer’s Repres entatives. These delay damages shall be the sum \\nstated in t he Appendix to Tender an d the sup ervision fees as pe r the \\ninvoices from the respective firms, which shall be paid for every day \\nwhich shall elapse between the releva nt Time for Completion and the \\ndate stated in the Taking -Over Certificate. However, the to tal amount \\ndue under thi s Sub -clause shall not excee d the maximum amount of \\ndelay damages (if any) stated in the Appendix to Tender.  \\n \\nThese delay damages and the Supervision  Consultant’s and  \\nEngineer ’s fees shall be the only damages due fro m the Contractor for \\nsuch default , other than in the  event  of termination under Sub -Clause \\n15.2 [ Termination by Employer ] prior to completion of the Works. \\nThese damages sha ll not relieve the Contr actor from his obligation to \\ncomplete the Works, or from an y other duties, obligati ons or \\nresponsibilities whic h he m ay have under the Contract.  \\nSub-Clause 8. 11  Prolonged Suspension  \\n \\nSub-Clause 8.11:  \\n \\nDelete 84 days  and replace with 120 da ys. \\n \\nSub-Clause 8. 13  Obliga tion t o Minimize Delays  \\n \\nInclude the following after clause 8.12 : \\n \\nThe Contractor shall at all times use all reasonable e ndeavours to \\nminimize an y delay in the performance of the Contract that may result \\ndue any reason whether a ttributed  to the Contractor or not . PURE HEALTH OFFICE AT 41st FLOOR , VISION TOWER, DUBAI - UAE  \\nINTERIOR F ITOUT  AND MEP WORKS PACKAGE  \\n \\n  \\n \\nVOL. I – SECTION 5: C ONDIT IONS OF CONTRACT (PART II) – PARTICULAR CONDITI ONS   \\nREV: 00   S5/16 CLAUSE 9: TEST S ON COMPLETION  \\n \\nSub-Clause 9.1  Contractor’s Obligations  \\n \\nInsert the following paragraph at the e nd of this Sub -Clause:  \\n \\nAll costs incurred by repetition of tests shall be the resp onsibility of the \\nContra ctor. The  Employer shall hav e the right to deduct these costs \\nfrom the monies due to the Contractor.  \\n    \\nCLAUSE 10: EMPLOYER\\'S TAKING OVER  \\nSub-Clause 10.1  Taking Over of the Works and  Sections  \\n \\nDelete Sub -Clause 10.1 and replace with:  \\n \\nExcept as stated in Sub -claus e 9.4 [Failure to Pass T ests on \\nCompletion], the Wor ks sha ll be taken over by the Employer when (i) \\nthe Works have been completed in accordance with the Contract, \\nincluding the matters described in  Sub-clause 8.2 [Time for \\nCompletion] and except as allowed  in sub -paragraph (a) be low, and (ii) \\na Taking -Over Certificate  for the Works has been issued.  \\n \\nThe Contractor may apply by notice to the Engineer for  a Taking -Over \\nCertificate  not earlier than 14 days before t he Works will, in the \\nContractor’ s opinion, be compl ete an d ready for taking over. If the \\nWorks are divided into Section, the Contractor may similarly apply for a \\nTaking -Over  Certificate  for each Section.  \\n \\nThe Engineer shall, within 28 days after receiving the Contr actor’s \\napplication : \\n \\n(a) Issue the Taking -Over Certificate  to the Contractor, stating the \\ndate on which the Works or Sec tion were completed in \\naccordance with the Contract, except for any minor outstandi ng \\nwork and defects whic h will no t substantially aff ect th e use of the \\nWorks or Section for their intended  purpose (either until or whilst \\nthis work is completed and these defects are remedied); o r \\n \\n(b) Reject the application, giving reasons and specifying th e work \\nrequired to be do ne by the  Contractor to enab le the  Taking -Over \\nCertificate  to be issued. The Contractor shall then complete this \\nwork before i ssuing a further notice under this Sub -clause.  \\nCLAUSE 11: DEFECTS LIABILITY  \\nSub-Clause 11.2  Cost of Remedying Defects  \\n \\nAdd after the word “Contractor” in th e third line the words “ who shall \\nalso pay all the costs of the Engineer , incurred in the inspection thereo f \\n(exclud ing the first three  inspe ctions) ”. \\n \\n \\n \\n \\n \\n PURE HEALTH OFFICE AT 41st FLOOR , VISION TOWER, DUBAI - UAE  \\nINTERIOR F ITOUT  AND MEP WORKS PACKAGE  \\n \\n  \\n \\nVOL. I – SECTION 5: C ONDIT IONS OF CONTRACT (PART II) – PARTICULAR CONDITI ONS   \\nREV: 00   S5/17 Sub-Clause 11.3  Extension of Defects Notification Period  \\n \\nDelete Sub -Clause 11.3 and replace with:  \\n \\nThe Employer shall be entitled subject to Sub -Clause 2.5 [Employer’s \\nClaims] to a n extension of the Defec ts Notifi cation Period for t he Wor ks \\nor a Section if and to the extent that the Works, Section or a major item \\nof Plant (as the case may be, and afte r taking over) cannot be  used for \\nthe purposes for which they are intended by reaso n of a defect or \\ndeficie ncy. \\n \\nFollowing rectificatio n of a  defect or deficiency in the Works or any part \\nthereof, the Defects Notification Period for the Works or such part \\nthereof shall automatica lly be extended for a further period of 365 \\ndays. However, a Defect Notification Pe riod shal l not be extended b y \\nmore  than two years.  \\n \\nIf delivery and/or erection of Plant and/or Materials was suspended \\nunder Sub -clause 8.8 [Suspens ion of Work] except in c ase of \\nContractor’s default or Sub -clause 16.1 [Contractor’ s Entitlement to \\nSuspend  Work], t he Contractor’s obl igatio ns under this Clause shall \\nnot apply to any defects or damage occurring more than two years \\nafter the Defects Notif ication Period  for the P lant and/or Materials \\nwould otherwise have expired.  \\n \\nThe De fects Notification Perio d mention ed in 1.1.3.7 shall  not a pply to \\nthe following:  \\n \\n(a) Defects / deficiencies in design, which shall be ten (10) years \\nfrom the Taking -Over Certific ate. \\n(b) Decennial liability for defects, which shall be ten (1 0) years from \\nthe Taking -Over  Certi ficate . \\n(c) All Plant and Materials in re spect of which a longer Defects  \\nNotification Period or warranty period is expr essly specified in \\nthe C ontract Documents, in which case the longer period shall \\napply. \\nSub-Clause 11.4  Failure to  Remedy Defects  \\n \\nIn line 1 of the first paragraph, add “or complete any outstanding work” \\nafter the word “damage”.  \\nIn line 3 of the first pa ragraph, add “or outstan ding work completed” \\nafter the word “remedied”.  \\nIn line 1 o f the second paragraph, add “or c omplete the outstan ding \\nwork” after the word “damage”.  \\nIn line 2 of the second paragraph, delete the word “remedial”.  \\nSub-Clause 11.12  Decen nial Liability  \\n \\nInsert n ew Sub -Clause:  \\n \\nThe Contractor shall be liable in the event  of a total or partial c ollapse \\nof any structure for ming p art of the Works, or if a defect threatening the \\nsafety or stability of any structure is discovered, during the per iod of \\nten years from th e issue of the Taking -Over Certificate in accordance \\nwith S ub-Clause 10.1 [ Taking O ver of th e Works and Section s]. Th e \\nliability of the Contractor shall in any event be limited to the cost of \\nrectification of the Works. The approval  of the Engineer shall n ot in any \\nway absolve or relieve the Contractor from such l iability.  PURE HEALTH OFFICE AT 41st FLOOR , VISION TOWER, DUBAI - UAE  \\nINTERIOR F ITOUT  AND MEP WORKS PACKAGE  \\n \\n  \\n \\nVOL. I – SECTION 5: C ONDIT IONS OF CONTRACT (PART II) – PARTICULAR CONDITI ONS   \\nREV: 00   S5/18 CLAUSE 12: ME ASUREMENT  AND EVALUATION  \\n \\nSub-Clau se 12.2 Method of Measurement  \\n \\n   Delete item (a) and replace it by the following:  \\n \\n\"The method of measurement for the Works shall be measu red in \\naccordance with the Principles of Measurement (Inter national) (POMI) \\nFor Wor ks of Con struction (June 197 9), as  published by the Royal \\nInstitution of Chartered Surveyors in accordance with the Pricing \\nPreambles as detailed in Volume II.\" \\n \\nSub-Clause 12.3 Evaluation  \\n \\n   Delete item (a) i ii & iii  \\n \\nDelete item  (b) i \\n \\nDelete the follo wing sent ence  \\n \\n“If no rates  or pr ices are relevant for the derivation of a new rate or \\nprice, it shall be derived from the reasonable Cost of execut ing the \\nwork, together w ith reasonable profit, taking account of any other \\nrelevant  matters.”  \\n \\nand replace  with: \\n \\n“If no rates or pric es are  relevant for the derivation of a new rate or \\nprice, it shall be derived from the reasonable Cost of executing the \\nwork, together with a pe rcentage mark -up of 7% for the Contractor’s \\noverhead, profi t and attendance. “ \\n \\nCLAUSE 13: VARIATION S AND ADJUST MENT S \\n \\n Sub-Clause 13. 1 Right to Vary  \\n \\nDelete this Sub -Clause and replace it by the following:  \\n \\n Except in emergenc ies, the Contractor shal l have no right to execute \\nany work which would have the ef fect of an increase or d ecrease i n the \\nContract Pric e, wit hout having the prior written approval of the \\nEngineer, but if the Contractor executes any increased work without \\nsuch approval, in so doin g he shall be deemed to have waived any \\nright to claim for additional payment or ex tension o f time as a result of \\ndoing such work.  \\n \\nThe Engineer shall, subject to Clause 2.1, make any variation of the \\nform, quality or quantity of th e Works or any part ther eof that may in his \\nopinion be necessary and for that purpo se or if for any other r eason it \\nshall in his opinio n be d esirable shall have power to order the \\nContractor to do and the Contractor shall do any of the following: - \\n \\n (a) increase or decrease the q uantity of work included in the \\nContract,  \\n \\n (b) omit any su ch work,  \\n  \\n (c) change t he charac ter or quality or k ind of  any such work,  \\n PURE HEALTH OFFICE AT 41st FLOOR , VISION TOWER, DUBAI - UAE  \\nINTERIOR F ITOUT  AND MEP WORKS PACKAGE  \\n \\n  \\n \\nVOL. I – SECTION 5: C ONDIT IONS OF CONTRACT (PART II) – PARTICULAR CONDITI ONS   \\nREV: 00   S5/19  (d) change the levels, lines, position and dimensions of any part of \\nthe Works, and  \\n \\n (e) execute  additional work of any kind necessary for the \\ncompletion of the Works,  \\n \\nand no suc h variation written or v erbal sha ll in any way vitia te \\nor invalidate the Contract.  The approval of the Employer shall \\nbe required before the Engineer shall make any variati on \\nunder the provision o f this Clause where such variation will \\naffect the Contract  Price.  \\n \\nThe Contractor shall not  make any alteratio n and/ or modification of the \\nPermanent Works, unless he received written instructions from the \\nEngineer.  \\n  \\nSub-Clause 13. 3 Variation Procedure  \\n \\nDelete the last paragraph of Sub -Clause 13.3 and substitute:  \\n \\nUpon instructing or ap proving a  Variation, the Eng ineer shall proceed \\nin accordance with Sub -Clause 3.5 to agree or determine adjustments \\nto the Contract Price and to the schedule of payments und er Sub -\\nClause 14.4. These adjustments shall include reasona ble profit, and \\nshall ta ke accoun t of the Contractor ’s sub missions under Sub -Clause \\n13.2 if applicable.  \\nScope of varied works is determined based on variations to Contract \\nDocuments and Specificati ons. \\nSub-Clause 13.8  Adjustments for Changes in Cost  \\n \\n  Delete Sub -Clause 13.8 and replace with:  \\n \\nContract Price shal l not be adjusted for an y increase or decrease in \\nCost including of cost of labour,  goods, plants, material s, and an y other \\ninputs rela ted or  necessary for executing the works .  \\n \\nCLAUSE 14: CONTRACT PRICE AND PAYMENT  \\n \\n Sub-Clause 14.1  The Contract Price  \\n     \\nDelete all Sub -Clause  14.1 and substitute by:  \\n \\n(a) the Contract Price shall be t he lump sum Accepted Con tract \\nAmount and can only be  subje ct to adjustments in accordance \\nwith the Contract;  \\n \\n(b) the Contractor shall submit to the Engineer, within 28 days  \\nafter the Commencement Date, a proposed breakdown of \\neach lump sum price in the Sc hedules. The Engineer ma y take \\naccount of the breakd own wh en preparing Payment \\nCertificates, but shall not be bound by it.  \\n \\nSub-Clause 14.3  Application for Interim Payment Certificates  \\n \\nIn the Sub -Clause 14.3 (b), delete the wor ding \"and changes in cos t\" \\nand \"a nd Sub -Clause 13.8 [Adjus tments for Changes in Cost];\"  PURE HEALTH OFFICE AT 41st FLOOR , VISION TOWER, DUBAI - UAE  \\nINTERIOR F ITOUT  AND MEP WORKS PACKAGE  \\n \\n  \\n \\nVOL. I – SECTION 5: C ONDIT IONS OF CONTRACT (PART II) – PARTICULAR CONDITI ONS   \\nREV: 00   S5/20 Sub-Clause 14.5  Plant and Materials intended for the Works  \\n \\nDelete the words “If thi s Sub -Clause applies” in  the first sentence.  \\nDelete the second paragraph.  \\nDelete th e word “either” at the e nd of sub -paragraph (a).  \\nDelete su b-paragraph (b).  \\nDelete (i) in sub -paragraph (c).  \\nAdd to the penultimate paragraph the words “Ownership of Plant an d \\nMaterials in respect o f which payment is made in accordance with this \\nSub-Clause shall thereupon vest in the Emplo yer”. \\n  \\nSub-Clause 14.6 Issue of Interim Payment Cert ificates  \\n    \\nDelete all Sub -Clause 14.6 and substitute by:  \\n \\nWithin 2 days of delivery  of each progressive  stateme nt, the Engineer \\nshall deliver to the Employer an Interim P ayment Certificate statin g the \\namount of payment to the Co ntractor that the Engineer considers due \\nand payable in respect of suc h statement less 10% retention  and less \\nany a mount for which the Empl oyer has specified his reasons for \\ndisagreement. The Engine er shall not be bound by any sum previously \\nconsider ed by him to be due to the Contractor.  \\nThe amount due to the Contractor and approved by the Engineer \\nunder any interim P ayment Certificate issue d by the Engineer pursuant \\nto this Clause shall, subject to  Sub-Clause 11.9 and 7.4,  be paid  by the \\nEmployer to  the C ontractor within 5 days  after such Interim Payment \\nCertificate has been delivered to the Employer.  \\n \\nSub-Clause 14.8  Delayed  Payment  \\nDelete this Sub -Clause.  \\nSub-Clause 14.9  Payment of Retention Money  \\nDelete all Sub -Clause 14.9 and substitute by:  \\n50% of Retention  money wi ll be release d upon issuing the Taking -Over \\nCertificate and the remaining 50% will be re lease d after 6 months \\ncalculat ed from the Taking -Over Certificate against security cheque  \\nuntil completion  of Defect s Notification Perio d. \\nSub-Clause 14.11  Application for Final Payment Certificate  \\n \\nDelete the words “Sub -Clause 20.4 [ Obtaining Dispute Adjudication \\nBoard ’s Decision ] or” in the last sentence in the thir d paragrap h. \\n \\nSub-Clause 14. 16 Fixed Price Contract  \\n \\n   Add th e foll owing under new Sub -Clause 14.16: \\n \\nThis is a Fixed Price Lump Sum Contract and no adjustment shall be \\nmade to t he Contrac t Price arising from any fluctuat ions in cost or any  \\nmatte r (other than the adjustments permitted in the Contract), which \\nmay affect the rates or prices set out in the Contract during the Time \\nfor Completion and the number of days stated in the A ppendix to  \\nTender for Defects Notif ication Period.  PURE HEALTH OFFICE AT 41st FLOOR , VISION TOWER, DUBAI - UAE  \\nINTERIOR F ITOUT  AND MEP WORKS PACKAGE  \\n \\n  \\n \\nVOL. I – SECTION 5: C ONDIT IONS OF CONTRACT (PART II) – PARTICULAR CONDITI ONS   \\nREV: 00   S5/21 CLAUSE 15: TERMINATION BY EMPLOYER  \\nSub-Clause 15.1  Notice to Correct  \\n \\nInsert at the end of this Sub -Clause the words “Such notice shall \\nexpressly state that it is given under this Sub -Clause”.  \\n \\nCLAUSE 16: SUSPENSION A ND TERMI NATION BY CONTRACTO R \\nSub-Clause 16.1  Contractor’s Entitlement to Suspend Work  \\n \\nInsert after the words “(or reducing the rate of work)” on the second \\nline of the fo urth paragraph, the words “or of resuming normal \\nworking”.  \\nSub-Clause 16.4  Payment on Termi nation  \\n \\nAfter a not ice of  termination under Sub -Clause 16.2 [Termination by \\nContractor] has taken effect, the Employer shall promptly:  \\n \\na. Return the Performance Secu rity to the Contractor  \\nb. Pay the Contractor in acco rdance wit h Sub-Clause 19.6 \\n[Option al Termi nation, Payment and  Relea se]. \\n \\nCLAUSE 17: RISK AND RESPONSIBILITY  \\n \\nSub-Clause 17.1  Indemnities  \\n \\nInsert the following paragraph at the end of this Sub -Clause:  \\n \\nIf the Employer has to pay any money in respect of an y claims o r \\ndemands in respect of a ny indem nity which the Cont ractor  is to \\nprovide, the amount so paid and the cost incurred by the Employer \\nshall be charged to and paid by the Contractor, provided always th at \\nthe Employer shall, if circumstances permit, g ive to the  Contractor \\nreasonable op portunit y of examining such  claim s or demands before \\npayment.  \\n \\nCLAUS E 20: CLAIM, DISPUT ES AND  ARBITRATION  \\nSub-Clause 20.2  Appointment of the Dispute Adjudication Board  \\n \\nDelete all Sub -Clause 20.2 and substitute by:  \\n \\nIf any dispute arises out of or in connection with this Contract , \\nrepresen tative s of the Par ties with authority to sett le the dispute will, \\nwithin 14 days of a written requ est from one Party to the other, meet in \\ngood faith effort to amicably re solve the dispute. In the e vent that the \\ndispute cannot be a micably resolve d within 14 days as stated in this \\nSub-Clause, then either Par ty may  refer t he dispute to the c ompetent \\ncourts in the Emi rate of Dubai.  \\n \\n \\n PURE HEALTH OFFICE AT 41st FLOOR , VISION TOWER, DUBAI - UAE  \\nINTERIOR F ITOUT  AND MEP WORKS PACKAGE  \\n \\n  \\n \\nVOL. I – SECTION 5: C ONDIT IONS OF CONTRACT (PART II) – PARTICULAR CONDITI ONS   \\nREV: 00   S5/22 Sub-Clause 20.3  Failure to Agree Dispute Adjudicati on Board  \\n \\nDelete this Sub -Clause.  \\nSub-Clause 20.4  Obtaining Dispute Adjudic ation Board’s Decision  \\n \\nDelete this S ub-Clause.  \\n \\nSub-Clause 20.5  Amica ble Settlement  \\n \\nDelete th is Sub -Clause.  \\nSub-Clause 20.6  Arbitration  \\n \\nDelete this Sub -Clause.  \\nSub-Clause 20.7   Failure to Comply with Dispute Adjudication Board’s Decision  \\n \\nDelete this Sub-Clause.  \\nSub-Clause 20.8  Expiry o f Dispute Adjudication Board’s App ointment  \\n \\nDelete th is Sub -Clause.  \\n PURE HEALTH OFFICE AT 41st FLOOR , VISION TOWER, DUBAI - UAE  \\nINTERIOR F ITOUT  AND MEP WORKS PACKAGE  \\n \\n  \\n \\nVOL. I – SECTION 5: C ONDIT IONS OF CONTRACT (PART II) – PARTICULAR CONDITI ONS   \\nREV: 00   S5/23 OTHER PARTICULAR CONDITIONS  \\n \\n21.1      Contractor ’s License  \\n \\n Prior to  the signing of the Contract the successful Tenderer will be required to subm it to the \\nEmployer in writi ng evidenc e that he has a current trade lic ence issued in the United  Arab \\nEmirates.  \\n \\n22.1      Increase or Decrease of Costs  \\n \\n No adjustments are to be made in respect of rise or fall in the costs of labour and of materials \\nor an y other costs affecting the  cost of e xecution of the Works.  \\n \\n23.1      Bribery and Corrup tion \\n \\nThe Employer shall be entitled to cancel the Contract and to recover from the Contra ctor the \\namount of any loss resulting from such cancellation, if the Contract or has offered or given or \\nagreed to give any person any gift or consi deration of any kin d as a n inducement or regard for \\ndoing or for having done or forborne to do any action in relation to the obtaining or the \\nexecution of this Contract or any other Cont ract with the Employer or f or showing  or forbearing \\nto show favour or disfavour to any pe rson i n relation to this Contract or any other Contract with \\nthe Employer or if the like a cts shall have been done by any person employed by him or action \\non his behal f whether with or without t he knowled ge of the Contractor or if in rel ation to this or \\nany Cont ract with the Employer the Contractor or any person employed by him or acting on his  \\nbehalf shall be committed of any offence under the Corruption Acts or any si milar legislation \\nunder the  Laws of t he State of the United Arab Emira tes and of Dubai. \\n \\n24.1      Advertising  \\n \\n The Contractor shall not publish any photographs of the W orks nor allow the Works to be used \\nin any form of advertising whatsoever, without  prior approval in wri ting from the Emplo yer. \\n \\n25.1      Law gove rning the Contract  \\n \\n This Contract is subject to and shall be construed in accordance with the Laws and Regul ations \\nof the United Arab Emirates and of Dubai . \\n \\n26.1      Taxation  \\n \\n The Con tractor and his e mployees shall be liable to pay all income or other taxes as r equire d \\nby regulations which may be in force during the period of the Contract.  \\n \\n27.1      Customs and other Duties, Rates, Taxes and other Charges  \\n \\nThe Contractor shall  give all notices  and pay all customs or other import and ex port duties, \\nrates (inclu ding all handling and freight charges, wharfage and harbour dues, shipping and \\nother  rates and charges and taxes of whatever nature) required to be given or paid in order to \\ncomply in all respects with the provisions of any L aw or any Regulation or B y-Law of any local \\nGovernment authority which may be applicable in Dubai  in conn ection with the fulfilment of the \\nContract.  \\n \\nThe rates in the Bills of Quantities will be hel d to have i ncluded for all charges in respect of \\ncusto ms o r other import or exp ort duties, rates (including all handling and freight charges, \\nwharfage and harbour dues, shipping and other rates and charges) and taxes of whatever \\nnature payable both within and outside  Dubai  in connection with the ful filment of the  Cont ract. \\n \\n \\n \\n PURE HEALTH OFFICE AT 41st FLOOR , VISION TOWER, DUBAI - UAE  \\nINTERIOR F ITOUT  AND MEP WORKS PACKAGE  \\n \\n  \\n \\nVOL. I – SECTION 5: C ONDIT IONS OF CONTRACT (PART II) – PARTICULAR CONDITI ONS   \\nREV: 00   S5/24 28.1      Interruption of Supplies of Services  \\n \\n The Contractor shall not inter fere with supplies and services of whatsoever nature such as but \\nnot limited to water, electric po wer and light, telephones, buried cables and sew erage.  If any  \\nsuch  suppl y or service is damaged, the Contractor must report it to the owner immediately.  \\n \\nNo saline waste water that may arise as a result of the Contract Works nor any other water that \\nmay b e detrimental to operation of the sewage treatme nt plant shall  be d ispose d of into the \\nsewerage network.  \\n \\nThe Contractor shall be responsible for any damage caused to such supplies or services and \\nshall fully indemnify and keep indemnified the Employer aga inst all consequences thereof of \\nwhatsoever natu re. \\n \\nThe metho d of execut ion of repairs shall be decided by the owner.  \\n \\nIn addition to and without prejudice to the generality of the indemnity above referred to, and to \\nthe Contractor\\'s liability in penaltie s or liquidated damages generally, the Contracto r shall pay \\nto the Employ er in respect of damage to any such supply or service a charge calculated in \\naccorda nce with the Laws in force during the period of this Contract.  \\n \\nBefore opening up the ground for an y purpose, the Contractor must notify all concer ned parties \\nby issue of a  formal \"Notice of Intent\" and must obtain information by formal notice regarding \\nthe location of all underground services. The complete responsibility for obtaining this \\ninformation rests with the Contractor.  \\n \\n29.1      Precaution  against Fire and M arine Hazards  \\n \\n The Contractor shall conform to the regulations of the Employer and any o ther controlling \\nauthority in force at the Site of the Works with respect to the precautions to be taken  against fire \\nand marine hazards.  \\n \\n30.1      Declaration again st Wai ver \\n \\n The condoning of any breach or breaches by the Contractor or an authorised Sub -contractor of \\nany of the  stipulations  and conditions contained in the Contract shall in no way p rejudice or \\naffect or be construed as a waiver o f the Employer \\'s rights, power, and remedies under the \\nContract in respect of any other breach or breaches as  aforesaid.  \\n \\n \\n31.1 Indemnity to Emplo yer’s an d Engineer’s Staff (including the Staff of any ot her \\nConsul tant on Site)  \\n  \\n The Contractor shal l indemnify th e Employer and every member, officer and employee thereof \\nand the Engineer (including any othe r consultant) and the Engineer\\'s Representative and every \\nmemb er of his staff on Site from any claim  or demand from accident, injury, damage, loss \\nand/or compensa tion any ki nd whatsoever arising out of or in connection with all claims and \\ndemands which may  be made against the Employer for or in respect of or arising out of the \\nperformance of the Contract or\\'s obligations under any of the provisions of the Contract.  \\n \\nIf the Em ployer has to pay or elects to pay any money  in respect of any such claim or demand s \\nas aforesaid, the amount so paid and the cost incurred by th e Employer shall be charged to and \\npaid by the Contractor provided always that the Emp loyer shall, i f circumsta nces permit, give to \\nthe Contractor reasonable opportunity of examining such claims  or demands before payment.   \\n \\n \\n \\n \\n PURE HEALTH OFFICE AT 41st FLOOR , VISION TOWER, DUBAI - UAE  \\nINTERIOR F ITOUT  AND MEP WORKS PACKAGE  \\n \\n  \\n \\nVOL. I – SECTION 5: C ONDIT IONS OF CONTRACT (PART II) – PARTICULAR CONDITI ONS   \\nREV: 00   S5/25 32.1      Safety of Construction  \\n \\n The Contractor  shall be held resp onsibl e, for a period of ten (10) years for the safety of the \\nconstruction and for any def ault or defect resulting from the execution, irrespective of the final \\nhandover certificates and the ret urn of the insurance policy to him.  He sha ll also be held \\nresponsib le for any minor default or deceit or major default that may be discovered after the  \\nfinal handover.  \\n \\n33.1      Claims Resulting from Adjoining S ites \\n \\n The Contractor shall not be entitled  to claim indemnity or extension of time fo r the Works nor to \\nbe exc used from any of the obligations of the Contract by reason of nor to submit any clai ms in  \\nrespect of disturbance or delay due to the simultaneous  execution of work adjoining the Site \\nand e xecuted either by the Contractor or another  contractor.  \\n \\n34.1      Release of Information  \\n \\n All information gathered under this Contract by the Contract or an d all reports and \\nrecommendations hereunder shall be tre ated as confidential by the Contractor and shall not, \\nwithout the prior written approv al of the Employer,  be ma de available to any person or party \\nother than the Employer, the Engineer or any rel evant  United Arab Emirates or Dubai  \\nGovernment Depa rtment.  The obligation on the part of the Contra ctor to keep all such \\ninformation con fidential shall be of a g eneral nature and shall be without limitation of time.  \\n \\n35.1      Materials, Equipme nt et c. \\n \\n After accepting the tender the Contractor shall not  use or attempt to use materials, equipment \\nand f ittings other than those selected fro m product ranges from the  specified and approved \\nmanufacturers listed in the tender documents received and ac cepte d by the Employer, without \\nproviding substantiated reaso ns for his requested changes.  \\n \\n36.1      Contract or\\'s Status  \\n \\n The Contractor in execu ting his obligations unde r this Contract will be considered as an \\nindependent contractor and not as an agent or pa rt of the Employer\\'s organisation.  \\n \\n37.1 Overtime W orking  \\n  \\n In the event that the Contractor carrie s out any work on the Site during ove rtime periods or at \\ntimes  specified in sub -clause 11.1 of general conditions, then the Contractor shall pay t o the  \\nEngineer such sums calculated in accordance with the fo llowing schedule for the provision of \\nthe Enginee r\\'s supervisory staff who are deemed necessary by the Engineer  to remain on Site \\nduring these overtime periods to ensure that the works being carr ied o ut are properly \\nsupervised: - \\n \\nEngineer & Representative  Overtime (AED)  \\nArchitect/ Partner  ___for each ho ur on site  \\nDesign Director/ Architec t ___for each hour on sit e \\nProject Architect/ Senior Architect  ___for each hour on site  \\nArchitect (Qualifie d) ___for each hour on site  \\nAutoCAD Technician  ___for each h our on site  \\n \\n \\n \\n PURE HEALTH OFFICE AT 41st FLOOR , VISION TOWER, DUBAI - UAE  \\nINTERIOR F ITOUT  AND MEP WORKS PACKAGE  \\n \\n  \\n \\nVOL. I – SECTION 5: C ONDIT IONS OF CONTRACT (PART II) – PARTICULAR CONDITI ONS   \\nREV: 00   S5/26 The Contractor shall pay any sum s that become due to the Engineer in accordance with the \\nprovisions of this Clause during the period between the end of the month in which the ove rtime  \\nwas worked by the Engineer\\'s staff and the time that th e next monthly valuation is due to be \\nsubmitted t o the Engineer by the Contractor. The  Engineer may at his dis cretion withhold the \\nissuance of any certificate authorising payment to the Contracto r in the event of any delay by \\nthe Contractor in the making o f any payment which becomes due to the Engineer i n accordance \\nwith the provisions of t his Clause. Alternativel y the Employer may pay such sums that are due \\nto the Engineer, directly to the Engine er, and such sums shall be deducted from any certificates \\nor monies due to the Contractor.  \\n \\nFor the purposes o f implementation and interpretation o f this Clause overtime p eriods are any \\nperiods in excess of eight (8) normal working daylight hours a day on Monday to Satur day \\ninclusive of any week, or six (6) normal working daylight hours on a day Monday to Saturday  \\ninclusive during the month of Ra madan, and all day Sunday  of any week and all day on any \\nrecognised public ho liday.  \\n \\n38.1 Municipality / Authority  Building Permit  \\n \\nThe Eng ineer  shall  apply  to  and  liaise with Dubai Municipality  for  the  mandatory  permit  to  \\nconstruc t the works required in this Contract a s a whole or part or for any variatio n to the work \\nwhich alre ady received the mandatory permit.  In case of variations initiated by the Contractor, the \\nContractor shall prepare th e revised drawings and su bmit to the E ngineer for his further action.  \\n \\n38.2 The Contractor shall be responsible fo r the collection of the permit documentation from Dubai \\nMunicipality  and pay all necessa ry fees for this collecti on within two working days from receiving \\nwritten in structions from the Engineer.  \\n \\n38.3 The Contractor shall be r esponsible for completing the Works in accordance with the Building \\nPermit and to the satisfa ction of the Dubai  Municipality . He shall be responsible  for arranging \\ninspection by the Muni cipality / Authority  and for obtaining the Municipality\\'s / Authority’s  Certificate \\nof Completion and other approvals necessa ry for the connecti on of services, in order to ensure \\ncompletion of the Cont ract. \\n \\n38.4 On receipt of the Municipality / Authorit y building permit the Co ntractor shall examine all the \\ndocumentation handed over by Dubai Municipality  as part of the buil ding permit and advise the \\nEngineer i n writing withi n 14 days from the date of receipt of  any comment or special requirement \\nstated by Dubai Municipality  on any of the documents w hich ma ke up the Municipality / Authority  \\nbuilding permit.  Failure of the Contractor  to submit such advice within the pre scribed period of 14 \\ndays shall be deemed to be confirmation to the Engineer and the Employer that the works \\nrequired in this Contract have re ceived the mandatory Muni cipality / Authority  building permit, \\nrelieving the E mployer thereafter from any responsib ility to liaise with Dubai Municipality  for \\nobtaining any permit in connection with the works re quired in the Contract and  from considering \\nany claim by the Contractor f or an y extension of time or additional pay ments due to extra work \\nresulting from comments made in writing by the Municipality / Authority  on any of the documents \\nof the Municipality / Authority  building permit.  \\n \\n \\n \\n \\n \\n \\n \\n \\n \\n \\n \\n \\n \\n PURE HEALTH OFFICE AT 41st FLOOR , VISION TOWER, DUBAI - UAE  \\nINTERIOR F ITOUT  AND MEP WORKS PACKAGE  \\n \\n  \\n \\nVOL. I – SECTION 5: C ONDIT IONS OF CONTRACT (PART II) – PARTICULAR CONDITI ONS   \\nREV: 00   S5/27 38.5      Requirements for Takin g Ove r \\n \\n The completion of the whole of th e Works or any part of t he Works will not be deemed to have \\noccurred unless all the following criteria have been met in addition to any other  conditions: - \\n(a) All test s including commissioning that are required to be ca rried out to materials, \\nequipment, sy stem, fittings and any i tem or component of the Works (or part of the \\nWorks where applicable) have been carried out in the various manners de scribed in the \\nContract an d all materials, equipment, fittings and any su ch item or component so \\ntested have been s hown by the tests to com ply with the Contract and to be to the \\nsatisfaction of the Engineer.  \\n \\n(b) The Works (or part of the Work where applic able) are in a condition s uch that the \\nEmployer can immediately occupy al l of the Works (or all of a part of the Wo rks where \\napplicable) an d use all of the Works (or all of a part of the Works where applicable) to \\nhis full advantage and for  which it is in tended to be used without hindrance or \\ndisruption from any employee, item  of equipment, item of temporary works or surplus \\nmaterial o f the Contractor or of any Sub -contractor.  \\n \\n(c) All items of outstanding work which are to be carried out and completed are  of a type \\nand in location s on the Site such that the carrying out and co mplet ion of any items of \\noutstanding work will not hinder, disrupt  nor in any way adversely affect the occupancy \\nand use of an completed part of the Project by the Employer.  \\n \\n(d) Use or occupancy by the Employ er of part of the Works at a time when the whol e wor k \\nhas not met the criteria for Comple tion as listed above sha ll not constitute \"use\" or \\n\"occupancy\" of the works as stated in this clause until such time as all the criteria have  \\nbeen met fully when the Taking -Over Certificate  in acc ordance with this clause can be \\nissue d, unless the Engineer a nd Employer shall choose to take over part of the Works \\nin accordance with Clause 10.2 hereof.  \\n(e) All related final approvals from various gov ernment authorities have been obtained and \\nall servi ces required under contract are conne cted and put in operatio n. \\n \\n(f) All warranties specified under contract have been submitted to and accepted by the \\nEngineer for all items, ma terials, systems, equipmen t and fittings, contractor to make \\nsure prior o rdering any item that Warranty Period shal l commence from date of Taking -\\nOver Certificate . \\n \\n(g) As-built drawings of major items of work have been submitted and  approved by \\nEngineer.  \\n \\n(h) Operation and maintenance manuals for all sys tems,  equipment have been submitted \\nand ac cepted by Engineer.  \\n \\n(i) Clearing of all parts of project, internally and externally have been done and completed \\nto the satisfaction of the Engi neer. \\n \\n39.1 Municipality / Authority  Certificate of Completion  \\n \\nUpon the w ritten request of the Contractor, the Engi neer will issue a letter  stating that the Works \\nare complete to allow the inspection of the Municipality/ Authority  for the Municipality/  Authority  \\nCompletion Certificate to take place, provided always that the  Engineer shall be satisfied that the \\nWork s are complete to this e xtent. If the Works are not complete to the satisfaction of the \\nEngineer, the Contractor will be required to complete  the necessary works and i ssue a further \\nrequest. The issuance of the let ter referred to in this Clause by the Engi neer shall not constitut e \\ncompletion within the meaning of Clause 10.1 or shall have any other meaning other than that the \\nWorks are complete  for the purpose of initia ting the inspection for the Municipality/ Autho rity \\nCompletion Certificate.  \\n \\n PURE HEALTH OFFICE AT 41st FLOOR , VISION TOWER, DUBAI - UAE  \\nINTERIOR F ITOUT  AND MEP WORKS PACKAGE  \\n \\n  \\n \\nVOL. I – SECTION 5: C ONDIT IONS OF CONTRACT (PART II) – PARTICULAR CONDITI ONS   \\nREV: 00   S5/28 39.2 In add ition to the requirement s of Clause 39.5, the Contractor is required to complete the Works \\nnecessary for obtaining the Municipality/ Authorit y Certificate of Completio n defined in Clause \\n40.1 and 41.1 by the Milest one D ate shown in the programme referred t o in sub -clause 8.3. \\nThe Contractor\\'s failure to obtain this certificate for any reason other than reasons which entitle \\nthe Contractor withi n the provision of the Con tract to an Extension of Time, shall be the sol e \\nresponsibility of the Contractor and sha ll not constitute any gr ound for an Extension of Time or \\nadditional costs.  \\n \\n40.1 Permanent Electricity, Water, Telephone and Drainage  \\n \\nThe Co ntractor shall be responsi ble under this Contract to liaise with all Stat utory  Authorities to \\nensure that the work is carried out to their latest regulations and  rules regardless of the fact that \\nthe Engineer has already liaised with such Authorities prior  to the award of this Cont ract. \\n \\n40.2 Notwithstanding his responsibilitie s und er Clause 39.1, the Contractor shall within 28 days of the \\norder to commence the Works contact all Statutory Authorities and discuss in detail with them the \\nrequirements of the W orks. He shall be responsi ble to ensure that no rules, regulations or \\nrequirem ents of the Statutory Authorities hav e changed, or that the A uthorities require any details \\nfor the project which are different from those included or inferred in the Contract, w hich may \\ncause a variation  to the Contract. If any changes are required b y the  Statutory Authorities, the \\nContracto r shall inform the Engin eer within a further 14 days (i.e. within 42 days of the notice to \\ncommence) giving full details of the consequences of these changes including  details on costs \\nand programme.  If no notific ation  has been received by the Engineer wi thin the time stipulated , it \\nwill be deemed that no variation will be necessary and the Contractor will forfeit his rights to any \\nadditional time or costs due to any s ubsequent Service Authorities requirements.  \\n \\n40.3 The Contractor shall liaise with all S tatutory Authorities thr oughout the Contract and shall be \\nresponsible for obtaining full approval of the Authorities and connections as requi red by the \\nContract.  \\n \\n40.4 The Employer shall be responsible to pay direc tly to the relevant authority all charges and fees \\nwhich are neces sary for the completion of the Works. The Contractor shall be responsible for \\ngiving the Employer Two (2) weeks notic e that the payment is due.  \\n \\n40.5 In the event that the supply of permanen t services to the site are delayed for rea sons for which \\nthe Contr actor is not responsible under the Contract, the final commissioning of the building may \\nbe delayed but the Contracto r shall complete all testi ng required under the Contract using \\ntemporary suppl ies for which he shall be responsible .  In this event the Con tractor shall be \\nawarded an Extension of Time in accordance with sub -clause 8.4 for the commissioning only.  \\nThe comm issioning shall be complet ed within 6 weeks from the connection of the pe rmane nt \\nservices, or such other time as ma y be approved by the Emp loyer. If the commissioning is not \\ncompleted within this period, the Contractor shall pay to the Employer and Enginee r penalties as \\ndefined in the appendix to Tender.  If an Extension of Tim e is given for this reason the Contractor \\nshall be entitled to any  expenses which he demonstrates that he has incurred as a result of the \\ndelay provided such claims are submitted in a ccordance with Sub-Clause 20.1.  SECTI ON 6  \\n \\nSPECIMEN FORM OF TENDER BOND  \\n \\n \\n \\n \\n \\n \\n \\n \\n \\n \\n \\n \\n \\n \\n PURE HEALTH OFFICE AT 41st FLOOR, VISION TOWER, DUBAI - UAE  \\nINTERIOR FITOUT AND MEP WORKS PACKAGE  \\n \\n \\nVOL. I – SECTION 6: SPECIMEN FORM OF TENDER BOND   \\nREV: 0 0   S6/1 SPECIMEN FORM OF TENDER BOND  (NOT APPLI CABLE)  \\n  \\n        \\nTO:  PURE HEALTH  MEDICAL SUPPLIES LLC    Date:  \\n 3401  Vision Tower , Business Bay  \\n P.O. Box 283572 , Dubai, UAE  \\n  \\n \\nDear Sir,  \\n \\n \\nContract:  PURE HEALTH OFFICE AT 41st FLOOR, VISION TOWER, DUBAI - UAE  –  \\nINTERIOR FITOUT AND MEP WORKS PACKAGE  \\n \\n   \\nSubject :   Our Tender Bond No…………………………..……. for AED…….….……………………  \\n \\nAt the request of Messrs ……………………………………………………………………………… …. \\n(hereinafter called “the Tenderer”), Post Box No. …….. , Dubai , we hereby unconditionally agree to hold \\nat your disposal the sum of AED ……………………  {in figures}, U .A.E. Dirhams \\n………………………………………………………………………………{in words}, being 5% of the Tender \\nSum on the above Project, as a Tender Bond. This Tender Bond shall be free of interest and payable in \\ncash on your first written demand in the manner ordered, without the Tenderer or any person on his behalf \\nor ourselves having the right to  suspend or delay payment or to object thereto for any reason whatsoever.  \\n \\nThis Tender Bond is valid for 90 calendar days from ……………….. {date of tender submission} to \\n……………… and renewable before expiry for a further 30 calendar days if  requested in writing  by the \\nEmployer . \\n \\nThis Bond shall be returned to us upon expiry or upon fulfillment of our undertaking whoever is the earlier.  \\n \\nThis Bond shall be construed and governed by the laws applicable in the United Arab Emirates . \\n \\n \\nYours faithfully,  \\n \\n \\n \\n \\n{Authoriz ed Signature      {Authorized Signature  \\nand Bank Seal}       and Bank Seal}  \\n \\n \\nName:        Name:  \\nDesignation:       Designation:  \\n       \\n SECTION 7 \\n \\nSPECIMEN FORM OF PERFORMANCE SECURITY  \\n \\n \\n \\n \\n \\n \\n \\n \\n \\n \\n \\n \\n \\n \\n \\n \\n PURE HEALTH OFFICE AT 41st FLOOR, VISION TOWER, DUBAI - UAE  \\nINTERIOR FITOUT AND MEP WORKS PACKAGE  \\n \\n \\nVOL. I  – SECTION 7: SPECIMEN FORM  OF PERFORMANCE SECURITY   \\nREV: 0 0   S7/1 SPECIMEN FORM OF PERFORMANCE SECURITY  (NOT APPLI CABLE ) \\n  \\n         \\nTO:  PURE HEALTH  MEDICAL SUPPLIES LLC    Date:  \\n 3401  Vision Tower , Business Bay  \\n P.O. Box 283572 , Dubai, UAE  \\n \\n \\nDear Sir,  \\n \\n \\nContract:  PURE HEALTH OFFICE AT 41st FLOOR, VISION TOWER, DUBAI - UAE  – \\nINTERIOR FITOUT AND MEP WORKS PACKAGE  \\n \\n \\nSubject :   Our Performance Security No. ………………. for AED …………………… ………………………  \\n \\nAs Messrs ……………………………………………………………………………… …………………………...  \\n(hereinafter called “the Contractor”) ha ve declared that their Tender for the above named Works has \\nbeen accepted, we hereby undertake to hold at your disposal the sum of AED …………………… {in \\nfigures} U.A.E. Dirhams ……………………………………………… ……………………………………………  \\n………………………………{in words}, being 10% of the Contrac t Price, as a Performance Security.  \\nThis Security shall be free of interest and payable in cash on your first written demand in the manner \\nordered, wit hout the Contractor or any person on his behalf or ourselves having the right to suspend or \\ndelay paymen t or to object thereto for any reason whatsoever.  \\n \\nThis Security i s valid from ……………….. (contract commencement date) to ……………… (scheduled \\ntime for compl etion date as per the letter of acceptance) and shall before expiry, be automatically \\nrenewed until a Performance Certificate has been issued or until advised by you that the contract has \\nbeen fulfilled. No claim shall be made against thi s Security after the issue of the Performance \\nCertificate.  \\n \\n \\nYours faithfully,  \\n \\n  \\n \\n \\n{Authorized Signature      {Authorized Signature  \\nand Bank Seal }      and Bank Seal } \\n \\n \\nName:        Name:  \\nDesignation:       Designation:  \\n \\n \\n \\n  SECTION 8 \\n \\nSPECIMEN FORM OF BANK GUARANTEE FOR \\nADVANCE PAYMENT  \\n PURE HEALTH OFFICE AT 41st FLOOR, VISION TOWER, DUBAI  - UAE  \\n    INTERIOR FITOUT AND MEP WORKS PACKAGE  \\n \\n \\nVOL. I – SECTION 8: SPECIMEN FORM OF BANK GUARANTEE FOR ADVANCE PAYMENT   \\nREV: 0 0   S8/1 SPECIMEN FORM OF BANK GUARANTEE FOR ADVANCE PAYMENT  (NOT APPLICABLE)  \\n  \\n \\nTO:  PURE HEALTH  MEDICAL SUPPLIES LLC    Date:  \\n 3401  Vision Tower , Business Bay  \\n P.O. Box 283572 , Dubai, UAE  \\n  \\n \\nDear Sir,  \\n \\n \\nContra ct:  PURE HEALTH OFFICE AT 41st FLOOR, VISION TOWER, DUBAI - UAE    \\n – INTERIO R FITOUT AND MEP WORKS PACKAGE  \\n \\n \\nSubject:   Our Bank Guarantee No. ……………………. for AED ………………… ……………………….. … \\n \\nAs Messrs …………………………………………………………………………… ………………… ………... … \\n(hereinafter called “the Contractor”) have described that they have been awarded a contract for the \\nexecution, completion and remedying of any defects of Project:  PURE HEALTH OFFICE AT 41st  \\nFLOOR, VISION TOWER, DUBAI - UAE  – INTERIOR FITOUT AND MEP WORKS PACKAGE  with a \\nContract Price of AED  ………… ..……… .... {in figures} (U.A.E. Dirhams \\n……………………………………………… ………… ……… …………….......... ……... ……) {in words}, and in \\nconsideration of the Employer making an Advance Payment of \\nAED……………………………… ………………….. ..…../- {in figures} (U.A.E. Dirhams   \\n………………… ……………….. …………….. ………….……… …………... …….…….) {in words} we hereby \\nundertake to hold at your disposal the sum of this Advance Payment as an irrevocable and \\nunconditional Bank Guarantee. This guarantee shall be free of interest and payable in cash on your first \\ndemand in the mann er ordered, without the Contractor or any person on his behalf or ourselves having \\nthe right to suspend or delay payment or to object thereto for any re ason whatsoever.  \\n \\nIt is understood that our liability towards you will be progressively reduced by the amount repaid by you \\nby the Contractor as contained in the Interim Payment Certificates and payments against the said \\nadvance payment.  \\n \\nThis Guarantee s hall remain valid until the Employer receives full repayment of the advance payment \\namount from the Cont ractor.  \\n   \\n \\nYours faithfully,  \\n \\n \\n \\n \\n{Authorized Signature      {Authorized Signature  \\nand Bank Seal}       and Bank Seal}  \\n \\n \\nName:        Name:  \\nDesignation:       Designation:  \\n       \\n SECTION 9 \\n \\nSTATEMENT OF SITE VISIT  \\n '"
            ]
          },
          "execution_count": 20,
          "metadata": {},
          "output_type": "execute_result"
        }
      ],
      "source": [
        "def read_text_file(filename):\n",
        "    with open(filename, 'r', encoding='utf-8') as file:\n",
        "        content = file.read()\n",
        "    return content\n",
        "\n",
        "# Provide the filename of the text file you want to read\n",
        "filename = 'output.txt'\n",
        "\n",
        "# Call the function to read the file and store its content as a string\n",
        "file_content = read_text_file(filename)\n",
        "\n",
        "# Print the content of the file as a string\n",
        "file_content\n"
      ]
    },
    {
      "cell_type": "code",
      "execution_count": null,
      "metadata": {
        "colab": {
          "background_save": true,
          "base_uri": "https://localhost:8080/"
        },
        "id": "_kMylNQtl2Xn",
        "outputId": "143ab565-0964-43ae-ba5b-9bbcf7aa6f48"
      },
      "outputs": [
        {
          "name": "stderr",
          "output_type": "stream",
          "text": [
            "convert squad examples to features: 100%|██████████| 41/41 [05:10<00:00,  7.56s/it]\n",
            "add example index and unique id: 100%|██████████| 41/41 [00:00<00:00, 7188.33it/s]\n"
          ]
        }
      ],
      "source": [
        "predictions = run_prediction(questions, file_content, 'cuad-models/roberta-large/')"
      ]
    },
    {
      "cell_type": "code",
      "execution_count": null,
      "metadata": {
        "colab": {
          "background_save": true
        },
        "id": "DXnmqig_l8RP"
      },
      "outputs": [],
      "source": [
        "with open('predictions.txt', 'w') as f:\n",
        "    for i, p in enumerate(predictions):\n",
        "        f.write(f\"Question {i+1}: {questions[int(p)]}\\nAnswer: {predictions[p]}\\n\\n\")"
      ]
    },
    {
      "cell_type": "code",
      "execution_count": null,
      "metadata": {
        "colab": {
          "background_save": true
        },
        "id": "vcM2rBshnLWc"
      },
      "outputs": [],
      "source": [
        "pred = dict(predictions)"
      ]
    },
    {
      "cell_type": "code",
      "execution_count": null,
      "metadata": {
        "colab": {
          "background_save": true
        },
        "id": "L6-gjiuvolYj",
        "outputId": "ce5d8e8e-ad2a-4494-f2e9-7e4ab635687f"
      },
      "outputs": [
        {
          "data": {
            "text/plain": [
              "{'0': 'CONTRACT AGREEMENT',\n",
              " '1': 'PURE HEALTH MEDICAL SUPPLIES LLC 3401 Visio n Tower , Business Bay, P.O. Box 283572 , Dubai , UAE (hereinafter called the “Employer”)',\n",
              " '2': '13th January 2022',\n",
              " '3': '13th January 2022',\n",
              " '4': '',\n",
              " '5': 'This Tender Bond is valid for 90 calendar days from ……………….. {date of tender submission} to ……………… and renewable before expiry for a further 30 calendar days if requested in writing by the Employer .',\n",
              " '6': 'This Tender Bond is valid for 90 calendar days from ……………….. {date of tender submission} to ……………… and renewable before expiry for a further 30 calendar days if requested in writing by the Employer .',\n",
              " '7': 'The Contract shall be governed by the laws of the Emirate of Dubai and the federal laws of the United Arab Emirates.',\n",
              " '8': 'The Employer shall not bi nd himself to accept the lowest or any Tender and shall not state a reason for the acceptance or rejection of a Tender.',\n",
              " '9': '',\n",
              " '10': 'The Contractor shall not have exclusive use of the Site and may be required to share use of the Site with other s.',\n",
              " '11': '',\n",
              " '12': '',\n",
              " '13': '',\n",
              " '14': '',\n",
              " '15': '',\n",
              " '16': 'The Employer shal l be free to accept which ever Tender he may select.',\n",
              " '17': 'Except as provided under Sub -clause 4.4 [Subc ontractors], Contractor shall not assign or transfer all or any of its rights or oblig ations under this Contract, nor shall any share or interest therein in any manner or degree be transferred or assigned by Contractor, directly or indirectly, without the prior consent in writing of Employer.',\n",
              " '18': 'Except as provided under Sub -clause 4.4 [Subc ontractors], Contractor shall not assign or transfer all or any of its rights or oblig ations under this Contract, nor shall any share or interest therein in any manner or degree be transferred or assigned by Contractor, directly or indirectly, without the prior consent in writing of Employer. Employer shall not be liable to Contractor in any manner for refusing approval for any such proposed assignment or transfer. Any attempt by the Contractor to assign or transfer its rights, obligations or interest under the Contract without compliance with this Sub -Clause 1.7 [ Assignment ] shall be void and without effect.',\n",
              " '19': '10% of the Accepted Contract Amount As stated in Particular Conditions of Cont ract As stated in L etter of Acceptance AED 13,660 .00 per day 10% of the final Contract Price (*)',\n",
              " '20': 'Contract Price shal l not be adjusted for an y increase or decrease in Cost including of cost of labour, goods, plants, material s, and an y other inputs rela ted or necessary for executing the works .',\n",
              " '21': 'TWO MILLION FOUR HUNDRED FIFTY-EIGHT THOUSAND THREE HUNDRED FORTY-TWO ONLY 2,458,342.00/-',\n",
              " '22': 'For the purposes o f implementation and interpretation o f this Clause overtime p eriods are any periods in excess of eight (8) normal working daylight hours a day on Monday to Satur day inclusive of any week, or six (6) normal working daylight hours on a day Monday to Saturday inclusive during the month of Ra madan, and all day Sunday of any week and all day on any recognised public ho liday.',\n",
              " '23': '',\n",
              " '24': '',\n",
              " '25': '',\n",
              " '26': 'Except as provided under Sub -clause 4.4 [Subc ontractors], Contractor shall not assign or transfer all or any of its rights or oblig ations under this Contract, nor shall any share or interest therein in any manner or degree be transferred or assigned by Contractor, directly or indirectly, without the prior consent in writing of Employer.',\n",
              " '27': '',\n",
              " '28': '',\n",
              " '29': '',\n",
              " '30': 'The Performanc e Security shall be irrevocable, uncondit ional and a utomatically renewable and in the form annexed to the Particular Conditions or as may be directed by the Employer.',\n",
              " '31': '',\n",
              " '32': 'After a not ice of termination under Sub -Clause 16.2 [Termination by Contractor] has taken effect, the Employer shall promptly: a. Return the Performance Secu rity to the Contractor b. Pay the Contractor in acco rdance wit h Sub-Clause 19.6 [Option al Termi nation, Payment and Relea se].',\n",
              " '33': 'The Employer reserves the right to audit any aspect of the system.',\n",
              " '34': 'Th e liability of the Contractor shall in any event be limited to the cost of rectification of the Works.',\n",
              " '35': 'Th e liability of the Contractor shall in any event be limited to the cost of rectification of the Works.',\n",
              " '36': '',\n",
              " '37': 'Following rectificatio n of a defect or deficiency in the Works or any part thereof, the Defects Notification Period for the Works or such part thereof shall automatica lly be extended for a further period of 365 days.',\n",
              " '38': 'The Tenderer is notified that the contractual insurances, to be prov ided by the successful Tenderer under the provisions of the Conditions of Contract, shall be fr om an appr oved insurance comp any in the Dubai . The ins urance company and the insurance policies shall be subject to the approval of the Employer.',\n",
              " '39': '',\n",
              " '40': ''}"
            ]
          },
          "execution_count": 24,
          "metadata": {},
          "output_type": "execute_result"
        }
      ],
      "source": [
        "pred"
      ]
    },
    {
      "cell_type": "markdown",
      "metadata": {
        "id": "yo39CcxYYcGv"
      },
      "source": [
        "# Rating and Ranking"
      ]
    },
    {
      "cell_type": "code",
      "execution_count": null,
      "metadata": {
        "colab": {
          "base_uri": "https://localhost:8080/"
        },
        "id": "9-nYqG7emNDb",
        "outputId": "3f2fc007-53bf-4d61-ed0b-a9c2513757ae"
      },
      "outputs": [
        {
          "name": "stdout",
          "output_type": "stream",
          "text": [
            "<class 'collections.OrderedDict'>\n"
          ]
        },
        {
          "data": {
            "text/plain": [
              "odict_keys(['0', '1', '2', '3', '4', '5', '6', '7', '8', '9', '10', '11', '12', '13', '14', '15', '16', '17', '18', '19', '20', '21', '22', '23', '24', '25', '26', '27', '28', '29', '30', '31', '32', '33', '34', '35', '36', '37', '38', '39', '40'])"
            ]
          },
          "execution_count": 77,
          "metadata": {},
          "output_type": "execute_result"
        }
      ],
      "source": [
        "print(type(predictions))\n",
        "predictions.keys()"
      ]
    },
    {
      "cell_type": "code",
      "execution_count": null,
      "metadata": {
        "id": "r5uM7x68nTAu"
      },
      "outputs": [],
      "source": [
        "preDict = dict(predictions)"
      ]
    },
    {
      "cell_type": "code",
      "execution_count": null,
      "metadata": {
        "id": "ZYDhpTQM0Rfy"
      },
      "outputs": [],
      "source": [
        "with open('label.json') as json_file:\n",
        "    labels = json.load(json_file)"
      ]
    },
    {
      "cell_type": "code",
      "execution_count": null,
      "metadata": {
        "id": "3Eprsfwn2ztX"
      },
      "outputs": [],
      "source": [
        "context = []\n",
        "for k,v in preDict.items():\n",
        "  context.append(v)"
      ]
    },
    {
      "cell_type": "code",
      "execution_count": null,
      "metadata": {
        "id": "fnEd5cZT4gm0"
      },
      "outputs": [],
      "source": [
        "# context[2]"
      ]
    },
    {
      "cell_type": "code",
      "execution_count": null,
      "metadata": {
        "id": "VQDB1XuWFKWu"
      },
      "outputs": [],
      "source": [
        "# labels"
      ]
    },
    {
      "cell_type": "code",
      "execution_count": null,
      "metadata": {
        "id": "fElHsaL6Auqx"
      },
      "outputs": [],
      "source": [
        "# type(labels.values())"
      ]
    },
    {
      "cell_type": "code",
      "execution_count": null,
      "metadata": {
        "id": "zcWHAu4WKzsm"
      },
      "outputs": [],
      "source": [
        "clause = list(labels.keys())\n",
        "# clause"
      ]
    },
    {
      "cell_type": "code",
      "execution_count": null,
      "metadata": {
        "id": "PmISxo2BQ3GO"
      },
      "outputs": [],
      "source": [
        "keywords = list(labels.values())\n",
        "# keywords"
      ]
    },
    {
      "cell_type": "code",
      "execution_count": null,
      "metadata": {
        "id": "bdKpOjgGH7Ek"
      },
      "outputs": [],
      "source": [
        "from sentence_transformers import SentenceTransformer, util\n",
        "modelSentence = SentenceTransformer('all-MiniLM-L6-v2')"
      ]
    },
    {
      "cell_type": "code",
      "execution_count": null,
      "metadata": {
        "id": "FQM5sOiSJNuM"
      },
      "outputs": [],
      "source": [
        "def cosineExtract ():\n",
        "  tempval = []\n",
        "  cos_dict = {}\n",
        "  cos_raw = {}\n",
        "  for i in range (0,41):\n",
        "    c = keywords[i]\n",
        "    t = context[i]\n",
        "    # print(c,'\\n',t)\n",
        "    temb = modelSentence.encode(t)\n",
        "    cemb = modelSentence.encode(c)\n",
        "    cosval = util.cos_sim(temb,cemb)\n",
        "    cosvallist = cosval.tolist()\n",
        "    for j in cosvallist[0]:\n",
        "      if j>0.3:\n",
        "        tempval.append(j)\n",
        "    avg_cosval = sum(tempval)/len(tempval)\n",
        "    cos_dict.update({clause[i]:avg_cosval})\n",
        "    cos_raw.update({clause[i]:cosvallist})\n",
        "  return cos_dict,cos_raw\n",
        "cos_value_dict,cos_raw = cosineExtract()\n"
      ]
    },
    {
      "cell_type": "code",
      "execution_count": null,
      "metadata": {
        "id": "FD5f8vdNX2B4"
      },
      "outputs": [],
      "source": [
        "# cos_raw"
      ]
    },
    {
      "cell_type": "code",
      "execution_count": null,
      "metadata": {
        "colab": {
          "base_uri": "https://localhost:8080/"
        },
        "id": "v9gIzrFvX4BR",
        "outputId": "52eba563-9a3d-4d95-9d2c-44925e0b9431"
      },
      "outputs": [
        {
          "data": {
            "text/plain": [
              "{'Document Name': 0.580495278040568,\n",
              " 'Parties': 0.580495278040568,\n",
              " 'Agreement Date': 0.5058277726173401,\n",
              " 'Effective Date': 0.4733454372201647,\n",
              " 'Expiration Date': 0.4733454372201647,\n",
              " 'Renewal Term': 0.44639161560270524,\n",
              " 'Notice Period To Terminate Renewal': 0.44639161560270524,\n",
              " 'Governing Law': 0.4160101115703583,\n",
              " 'Most Favored Nation': 0.4160101115703583,\n",
              " 'Non-Compete': 0.40046443144480387,\n",
              " 'Exclusivity': 0.3959304094314575,\n",
              " 'No-Solicit Of Customers': 0.3959304094314575,\n",
              " 'Competitive Restriction Exception': 0.3959304094314575,\n",
              " 'No-Solicit Of Employees': 0.3959304094314575,\n",
              " 'Non-Disparagement': 0.3959304094314575,\n",
              " 'Termination For Convenience': 0.3959304094314575,\n",
              " 'Rofr/Rofo/Rofn': 0.3959304094314575,\n",
              " 'Change Of Control': 0.39590704791686115,\n",
              " 'Anti-Assignment': 0.39565494813417135,\n",
              " 'Revenue/Profit Sharing': 0.3912798762321472,\n",
              " 'Price Restriction': 0.3905392418736997,\n",
              " 'Minimum Commitment': 0.3905392418736997,\n",
              " 'Volume Restriction': 0.3905392418736997,\n",
              " 'Ip Ownership Assignment': 0.3905392418736997,\n",
              " 'Joint Ip Ownership': 0.3905392418736997,\n",
              " 'License Grant': 0.3905392418736997,\n",
              " 'Non-Transferable License': 0.3886542677879333,\n",
              " 'Affiliate License-Licensor': 0.38612819291078126,\n",
              " 'Affiliate License-Licensee': 0.383789234691196,\n",
              " 'Unlimited Or All-you-can-eat-License': 0.383789234691196,\n",
              " 'Irrevocable Or Perpetual License': 0.38315682645354954,\n",
              " 'Source Code Escrow': 0.38315682645354954,\n",
              " 'Post-Termination Services': 0.3880096773306529,\n",
              " 'Audit Rights': 0.3980458900332451,\n",
              " 'Uncapped Liability': 0.394398041507777,\n",
              " 'Cap-on Liability': 0.40712171410902953,\n",
              " 'Liquidated Damages': 0.4061016052961349,\n",
              " 'Warranty Duration': 0.4137870322826297,\n",
              " 'Insurance': 0.4130582438574897,\n",
              " 'Covenant Not To Sue': 0.4130582438574897,\n",
              " 'Third Party Beneficiary': 0.4130582438574897}"
            ]
          },
          "execution_count": 89,
          "metadata": {},
          "output_type": "execute_result"
        }
      ],
      "source": [
        "# cos_value_dict"
      ]
    },
    {
      "cell_type": "code",
      "execution_count": null,
      "metadata": {
        "id": "zmLC38GDo3yb"
      },
      "outputs": [],
      "source": [
        "lrc = ['Document Name',\n",
        "  'Parties',\n",
        "  'Agreement Date',\n",
        "  'Effective Date',\n",
        "  'Expiration Date',\n",
        "  'Renewal Term',\n",
        "  'Notice Period To Terminate Renewal',\n",
        "  'No-Disparagement',\n",
        "  'Warranty Duration',\n",
        "  'Insurance',\n",
        "  'Covenant Not To Sue',\n",
        "  'Third Party Beneficiary']\n",
        "mrc =  ['Termination For Convenience',\n",
        "  'Post-Termination Services',\n",
        "  'Revenue/Profit Sharing',\n",
        "  'Minimum Commitment',\n",
        "  'Volume Restriction',\n",
        "  'Ip Ownership Assignment',\n",
        "  'Joint Ip Ownership',\n",
        "  'License Grant',\n",
        "  'Non-Transferable License',\n",
        "  'Source Code Escrow']\n",
        "hrc =  ['Uncapped Liability',\n",
        "  'Liquidated Damages',\n",
        "  'Non-Compete',\n",
        "  'Exclusivity',\n",
        "  'No-Solicit Of Customers',\n",
        "  'No-Solicit Of Employees',\n",
        "  'Irrevocable Or Perpetual License',\n",
        "  'Anti-Assignment',\n",
        "  'Change Of Control',\n",
        "  'Audit Rights',\n",
        "  'Most Favored Nation',\n",
        "  'Competitive Restriction Exception',\n",
        "  'Rofr/Rofo/Rofn',\n",
        "  'Affiliate License-Licensor',\n",
        "  'Affiliate License-Licensee',\n",
        "  'Governing Law']"
      ]
    },
    {
      "cell_type": "code",
      "execution_count": null,
      "metadata": {
        "id": "B4Lfu6pPGqHc"
      },
      "outputs": [],
      "source": [
        "riskval = 0\n",
        "for k,v in cos_value_dict.items():\n",
        "  if k in lrc and v>0.3:\n",
        "    riskval = riskval + 0.3*v\n",
        "  if k in mrc and v>0.4:\n",
        "    riskval = riskval + 0.6*v\n",
        "  if k in hrc and v>0.5:\n",
        "    riskval = riskval + 0.9*v\n",
        "if riskval>11:\n",
        "  riskval = 10\n",
        "if riskval in range (10,11):\n",
        "  riskval = 9.5"
      ]
    },
    {
      "cell_type": "code",
      "execution_count": null,
      "metadata": {
        "colab": {
          "base_uri": "https://localhost:8080/"
        },
        "id": "wtJXQadXQPVy",
        "outputId": "bd292844-e734-4474-db55-57143efad042"
      },
      "outputs": [
        {
          "name": "stdout",
          "output_type": "stream",
          "text": [
            "NoRisk 1.55\n"
          ]
        }
      ],
      "source": [
        "riskval_fin = round(riskval,2)\n",
        "def risk_factor(risk):\n",
        "    if risk >= 1 and risk <= 2:\n",
        "        return \"NoRisk\"\n",
        "    elif risk >= 2 and risk <= 4:\n",
        "        return \"LowRisk\"\n",
        "    elif risk >= 4 and risk <= 6:\n",
        "        return \"AvgRisk\"\n",
        "    elif risk >= 6 and risk <= 8:\n",
        "        return \"HighRisk\"\n",
        "    elif risk >= 8 and risk <= 10:\n",
        "        return \"ExtremeRisk\"\n",
        "    else:\n",
        "        return \"InvalidRisk\"\n",
        "risktype = risk_factor(riskval_fin)\n",
        "print(risktype, riskval_fin)"
      ]
    },
    {
      "cell_type": "markdown",
      "metadata": {
        "id": "VBQ7s56TYlrB"
      },
      "source": [
        "# Excel Export"
      ]
    },
    {
      "cell_type": "code",
      "execution_count": null,
      "metadata": {
        "id": "PzfNui9t_703"
      },
      "outputs": [],
      "source": [
        "import openpyxl\n",
        "workbook = openpyxl.load_workbook('CAD reference.xlsx')"
      ]
    },
    {
      "cell_type": "code",
      "execution_count": null,
      "metadata": {
        "colab": {
          "base_uri": "https://localhost:8080/"
        },
        "id": "HPKHny7fBN1i",
        "outputId": "2789fa53-cb8e-472a-cccb-e6c4260680a4"
      },
      "outputs": [
        {
          "data": {
            "text/plain": [
              "['Cover',\n",
              " 'Index',\n",
              " 'Scope',\n",
              " 'Salient Features',\n",
              " 'Access To Site',\n",
              " 'Key Dates',\n",
              " 'Important Submittals',\n",
              " 'Submittals Pricing Docs',\n",
              " 'Submission Format',\n",
              " 'Insurance',\n",
              " 'Payment',\n",
              " 'Price Adjustment',\n",
              " 'Variation',\n",
              " 'Taxation',\n",
              " 'Notices',\n",
              " 'EOT,COST Clause',\n",
              " 'Res n Duties-Contractor',\n",
              " 'Res n Duties-EmployeeEngineer',\n",
              " 'Default of Contractor Employee',\n",
              " 'General',\n",
              " 'Employer Claim',\n",
              " 'Claim Proced',\n",
              " 'Dispute Settlement']"
            ]
          },
          "execution_count": 146,
          "metadata": {},
          "output_type": "execute_result"
        }
      ],
      "source": [
        "workbook.sheetnames"
      ]
    },
    {
      "cell_type": "code",
      "execution_count": null,
      "metadata": {
        "id": "SrezKBpbIqDm"
      },
      "outputs": [],
      "source": [
        "KeyDate = workbook['Key Dates']\n",
        "ImpSubmittals = workbook['Important Submittals']\n",
        "Insurance = workbook['Insurance']\n",
        "Payment = workbook['Payment']\n",
        "PriceAdj = workbook['Price Adjustment']\n",
        "Variation = workbook['Variation']\n",
        "Taxation = workbook['Taxation']\n",
        "Notices = workbook['Notices']\n",
        "RnDofContractor = workbook['Res n Duties-Contractor']\n",
        "RnDofEE = workbook['Res n Duties-EmployeeEngineer']\n",
        "DefCE = workbook['Default of Contractor Employee']\n",
        "General = workbook['General']\n",
        "EmployerClaim = workbook['Employer Claim']\n",
        "ProcOfClaims = workbook['Claim Proced']\n",
        "DisputeSettle = workbook['Dispute Settlement']"
      ]
    },
    {
      "cell_type": "code",
      "execution_count": null,
      "metadata": {
        "colab": {
          "base_uri": "https://localhost:8080/"
        },
        "id": "wsT87bCi0vOO",
        "outputId": "aef897cf-6258-49b2-aa0a-1036c50a127d"
      },
      "outputs": [
        {
          "data": {
            "text/plain": [
              "['Rating',\n",
              " 'Key Dates',\n",
              " 'Description',\n",
              " 'Number of Days from Commencement',\n",
              " 'Completion Date',\n",
              " 'Delay Damages for non achievement of key Dates',\n",
              " 'Remarks']"
            ]
          },
          "execution_count": 148,
          "metadata": {},
          "output_type": "execute_result"
        }
      ],
      "source": [
        "columnname = []\n",
        "for cell in KeyDate[1]:\n",
        "  columnname.append(cell.value)\n",
        "columnname"
      ]
    },
    {
      "cell_type": "code",
      "execution_count": null,
      "metadata": {
        "id": "YGuwfFMiJfRO"
      },
      "outputs": [],
      "source": [
        "with open('ClauseClass.json') as json_file:\n",
        "    ClauseClass = json.load(json_file)"
      ]
    },
    {
      "cell_type": "code",
      "execution_count": null,
      "metadata": {
        "colab": {
          "base_uri": "https://localhost:8080/"
        },
        "id": "iNoQgAcRMutk",
        "outputId": "915fffdf-097a-4a4a-9f9f-8e6060559d9c"
      },
      "outputs": [
        {
          "data": {
            "text/plain": [
              "dict_items([('Key_Dates', ['Agreement Date', 'Effective Date', 'Expiration Date', 'Renewal Term', 'Notice Period To Terminate Renewal']), ('Important_Submittals', ['Document Name']), ('Insurance_Related', ['Insurance']), ('Payment', ['Revenue/Profit Sharing', 'Minimum Commitment']), ('Price_Adjustment', ['Volume Restriction']), ('Variation', ['Ip Ownership Assignment', 'Joint Ip Ownership', 'License Grant', 'Non-Transferable License', 'Source Code Escrow']), ('Taxation', ['Uncapped Liability']), ('Notices', ['No-Disparagement', 'Covenant Not To Sue', 'Termination For Convenience', 'Post-Termination Services']), ('Responsibilities_and_Duties_of_Contractor', ['No-Solicit Of Customers', 'No-Solicit Of Employees']), ('Responsibilities_and_Duties_of_Employer_and_Engineer', ['Warrant Duration']), ('Default_of_Contractor_and_Employers', ['Liquidated Damages']), (\"Employer's_Claims\", ['Audit Rights']), ('Procedures_for_Claims', ['Dispute Settlement']), ('Dispute_Settlement', ['Most Favored Nation', 'Competitive Restriction Exception', 'Rofr/Rofo/Rofn']), ('General', ['Third Party Beneficiary', 'Governing Law'])])"
            ]
          },
          "execution_count": 150,
          "metadata": {},
          "output_type": "execute_result"
        }
      ],
      "source": [
        "ClauseClass.items()"
      ]
    },
    {
      "cell_type": "code",
      "execution_count": null,
      "metadata": {
        "id": "4QWDGt-_pLlr"
      },
      "outputs": [],
      "source": [
        "m = list(cos_raw.keys())\n",
        "n = list(pred.values())"
      ]
    },
    {
      "cell_type": "code",
      "execution_count": null,
      "metadata": {
        "id": "2eTPEMTIn9Rb"
      },
      "outputs": [],
      "source": [
        "CnD = dict(zip(m, n))"
      ]
    },
    {
      "cell_type": "code",
      "execution_count": null,
      "metadata": {
        "id": "N5Ki_MRFitmu"
      },
      "outputs": [],
      "source": [
        "Key_Dates = [\"Agreement Date\", \"Effective Date\", \"Expiration Date\", \"Renewal Term\" ,\"Notice Period To Terminate Renewal\"]\n",
        "Important_Submittals = [\"Document Name\"]\n",
        "Insurance_Related = [\"Insurance\"]\n",
        "PaymentClause = [\"Revenue/Profit Sharing\", \"Minimum Commitment\"]\n",
        "Price_Adjustment = [\"Volume Restriction\"]\n",
        "VariationClause = [\"Ip Ownership Assignment\",\"Joint Ip Ownership\",\"License Grant\",\"Non-Transferable License\",\"Source Code Escrow\"]\n",
        "TaxationClause = [\"Uncapped Liability\"]\n",
        "NoticeClause = [\"No-Disparagement\",\"Covenant Not To Sue\",\"Termination For Convenience\",\"Post-Termination Services\"]\n",
        "Responsibilities_and_Duties_of_Contractor = [\"No-Solicit Of Customers\",\"No-Solicit Of Employees\"]\n",
        "Responsibilities_and_Duties_of_Employer_and_Engineer = [\"Warrant Duration\"]\n",
        "Default_of_Contractor_and_Employers = [\"Liquidated Damages\"]\n",
        "Employer_Claims = [\"Audit Rights\"]\n",
        "Procedures_for_Claims = [\"Dispute Settlement\"]\n",
        "Dispute_Settlement = [\"Most Favored Nation\",\"Competitive Restriction Exception\",\"Rofr/Rofo/Rofn\"]\n",
        "GeneralClause = [\"Third Party Beneficiary\",\"Governing Law\"]"
      ]
    },
    {
      "cell_type": "code",
      "execution_count": null,
      "metadata": {
        "colab": {
          "base_uri": "https://localhost:8080/"
        },
        "id": "SMkiwIrHrBtc",
        "outputId": "b39b00e7-8965-4b8a-be36-a634d17dd1a5"
      },
      "outputs": [
        {
          "data": {
            "text/plain": [
              "dict_keys(['Document Name', 'Parties', 'Agreement Date', 'Effective Date', 'Expiration Date', 'Renewal Term', 'Notice Period To Terminate Renewal', 'Governing Law', 'Most Favored Nation', 'Non-Compete', 'Exclusivity', 'No-Solicit Of Customers', 'Competitive Restriction Exception', 'No-Solicit Of Employees', 'Non-Disparagement', 'Termination For Convenience', 'Rofr/Rofo/Rofn', 'Change Of Control', 'Anti-Assignment', 'Revenue/Profit Sharing', 'Price Restriction', 'Minimum Commitment', 'Volume Restriction', 'Ip Ownership Assignment', 'Joint Ip Ownership', 'License Grant', 'Non-Transferable License', 'Affiliate License-Licensor', 'Affiliate License-Licensee', 'Unlimited Or All-you-can-eat-License', 'Irrevocable Or Perpetual License', 'Source Code Escrow', 'Post-Termination Services', 'Audit Rights', 'Uncapped Liability', 'Cap-on Liability', 'Liquidated Damages', 'Warranty Duration', 'Insurance', 'Covenant Not To Sue', 'Third Party Beneficiary'])"
            ]
          },
          "execution_count": 154,
          "metadata": {},
          "output_type": "execute_result"
        }
      ],
      "source": [
        "CnD.keys()"
      ]
    },
    {
      "cell_type": "code",
      "execution_count": null,
      "metadata": {
        "id": "02iy8FoWvV0F"
      },
      "outputs": [],
      "source": [
        "index_dict = {}\n",
        "for index, key in enumerate(CnD):\n",
        "    index_dict[index] = key"
      ]
    },
    {
      "cell_type": "code",
      "execution_count": null,
      "metadata": {
        "id": "SqhK03xWdz8-"
      },
      "outputs": [],
      "source": [
        "for k, v in CnD.items():\n",
        "  i=''\n",
        "  if k in Key_Dates:\n",
        "    addon = [100*cos_value_dict[k],v,k]\n",
        "    KeyDate.append(addon)\n",
        "  elif k in Important_Submittals:\n",
        "    addon = [100*cos_value_dict[k],k,v]\n",
        "    ImpSubmittals.append(addon)\n",
        "  elif k in Insurance_Related:\n",
        "    addon = [100*cos_value_dict[k],k,v]\n",
        "    Insurance.append(addon)\n",
        "  elif k in PaymentClause:\n",
        "    addon = [100*cos_value_dict[k],k,v]\n",
        "    Payment.append(addon)\n",
        "  elif k in Price_Adjustment:\n",
        "    addon = [100*cos_value_dict[k],k,v]\n",
        "    PriceAdj.append(addon)\n",
        "  elif k in VariationClause:\n",
        "    addon = [100*cos_value_dict[k],k,v]\n",
        "    Variation.append(addon)\n",
        "  elif k in TaxationClause:\n",
        "    addon = [100*cos_value_dict[k],k,v]\n",
        "    Taxation.append(addon)\n",
        "  elif k in NoticeClause:\n",
        "    addon = [100*cos_value_dict[k],k,'','',v]\n",
        "    Notices.append(addon)\n",
        "  elif k in Responsibilities_and_Duties_of_Contractor:\n",
        "    addon = [100*cos_value_dict[k],k,v]\n",
        "    RnDofContractor.append(addon)\n",
        "  elif k in Responsibilities_and_Duties_of_Employer_and_Engineer:\n",
        "    addon = [100*cos_value_dict[k],k,'',v]\n",
        "    RnDofEE.append(addon)\n",
        "  elif k in Default_of_Contractor_and_Employers:\n",
        "    addon = [100*cos_value_dict[k],k,v]\n",
        "    DefCE.append(addon)\n",
        "  elif k in Employer_Claims:\n",
        "    addon = [100*cos_value_dict[k],k,v]\n",
        "    EmployerClaim.append(addon)\n",
        "  elif k in Procedures_for_Claims:\n",
        "    addon = [100*cos_value_dict[k],k,v]\n",
        "    ProcOfClaims.append(addon)\n",
        "  elif k in Dispute_Settlement:\n",
        "    addon = [100*cos_value_dict[k],k,v]\n",
        "    DisputeSettle.append(addon)\n",
        "  elif k in GeneralClause:\n",
        "    addon = [100*cos_value_dict[k],k,v]\n",
        "    General.append(addon)\n",
        "  else:\n",
        "    None"
      ]
    },
    {
      "cell_type": "code",
      "execution_count": null,
      "metadata": {
        "id": "V4ky1isClHpf"
      },
      "outputs": [],
      "source": [
        "workbook.save('final.xlsx')"
      ]
    }
  ],
  "metadata": {
    "accelerator": "GPU",
    "colab": {
      "collapsed_sections": [
        "JN1NhaMQYdp_",
        "b0H0-QbIYCe-",
        "y8K2j66BYIed",
        "bKbaDO2PYOjF",
        "yo39CcxYYcGv",
        "VBQ7s56TYlrB"
      ],
      "provenance": []
    },
    "kernelspec": {
      "display_name": "Python 3",
      "name": "python3"
    },
    "language_info": {
      "name": "python"
    }
  },
  "nbformat": 4,
  "nbformat_minor": 0
}